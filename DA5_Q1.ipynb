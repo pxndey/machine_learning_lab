{
 "cells": [
  {
   "cell_type": "markdown",
   "metadata": {},
   "source": [
    "# Machine Learning Lab Midterm\n",
    "#### by Anushk Pandey (21BCE2517)"
   ]
  },
  {
   "cell_type": "markdown",
   "metadata": {},
   "source": [
    "<image src=\"image.png\" height=500></image>"
   ]
  },
  {
   "cell_type": "markdown",
   "metadata": {},
   "source": [
    "## Question 1\n",
    "\n",
    "This problem is a problem of _class imbalance_.\n",
    "This can be solved by either:-\n",
    "- **Undersampling by removing data** \n",
    "\n",
    "or\n",
    "- **Oversampling by duplicating fraud cases**\n",
    "\n",
    "However, Oversampling may lead to **overfitting on postive class**\n",
    "\n",
    "Hence, we will use **_Undersampling_** by random elimination to make sure both classes are balanced"
   ]
  },
  {
   "cell_type": "markdown",
   "metadata": {},
   "source": [
    "- Decreasing Class probablility threshold may solve the problem, but it may lead to **more false positives**\n",
    "- Regularization will not help here as regularization is used to solve the problem of **overfitting**, not **class imbalance**"
   ]
  },
  {
   "cell_type": "markdown",
   "metadata": {},
   "source": [
    "We will be using the [Credit Card Fraud dataset](https://www.kaggle.com/datasets/mlg-ulb/creditcardfraud) from Kaggle\n",
    "\n",
    "We will only be using the libraries **Numpy** *(for mathematics)* and **Pandas** (*for data import and preprocessing*)"
   ]
  },
  {
   "cell_type": "code",
   "execution_count": 1,
   "metadata": {},
   "outputs": [],
   "source": [
    "import numpy as np\n",
    "import pandas as pd"
   ]
  },
  {
   "cell_type": "code",
   "execution_count": 2,
   "metadata": {},
   "outputs": [],
   "source": [
    "df = pd.read_csv('creditcard.csv')"
   ]
  },
  {
   "cell_type": "code",
   "execution_count": 3,
   "metadata": {},
   "outputs": [
    {
     "name": "stdout",
     "output_type": "stream",
     "text": [
      "Anushk Pandey 21BCE2517\n"
     ]
    }
   ],
   "source": [
    "df.head()\n",
    "print(\"Anushk Pandey 21BCE2517\")"
   ]
  },
  {
   "cell_type": "code",
   "execution_count": 4,
   "metadata": {},
   "outputs": [],
   "source": [
    "df_class0 = df[df['Class']==0]\n",
    "df_class1 = df[df['Class']==1]"
   ]
  },
  {
   "cell_type": "code",
   "execution_count": 5,
   "metadata": {},
   "outputs": [
    {
     "name": "stdout",
     "output_type": "stream",
     "text": [
      "Number of elements in class 0: 284315\n",
      "Number of elements in class 1: 492\n"
     ]
    }
   ],
   "source": [
    "print(f\"Number of elements in class 0: {df_class0.shape[0]}\")\n",
    "print(f\"Number of elements in class 1: {df_class1.shape[0]}\")\n"
   ]
  },
  {
   "cell_type": "markdown",
   "metadata": {},
   "source": [
    "## Data Balancing"
   ]
  },
  {
   "cell_type": "markdown",
   "metadata": {},
   "source": [
    "Here we can see Data is clearly imbalanced, we will undersample *Class 0 (not fraud)* "
   ]
  },
  {
   "cell_type": "code",
   "execution_count": 6,
   "metadata": {},
   "outputs": [],
   "source": [
    "elemCount = df_class1.shape[0]\n",
    "np.random.seed(0)\n",
    "class_0_indexes = np.random.randint(0,df_class0.shape[0],elemCount,)"
   ]
  },
  {
   "cell_type": "code",
   "execution_count": 7,
   "metadata": {},
   "outputs": [
    {
     "data": {
      "text/plain": [
       "(492, 31)"
      ]
     },
     "execution_count": 7,
     "metadata": {},
     "output_type": "execute_result"
    }
   ],
   "source": [
    "balanced_class_0 = df_class0.iloc[class_0_indexes]\n",
    "balanced_class_0.shape"
   ]
  },
  {
   "cell_type": "code",
   "execution_count": 8,
   "metadata": {},
   "outputs": [
    {
     "data": {
      "text/plain": [
       "(492, 31)"
      ]
     },
     "execution_count": 8,
     "metadata": {},
     "output_type": "execute_result"
    }
   ],
   "source": [
    "df_class1.shape"
   ]
  },
  {
   "cell_type": "markdown",
   "metadata": {},
   "source": [
    "Now as Both Class 0 and Class 1 are the same shape, we can join both into a singluar dataframe and create a train test split"
   ]
  },
  {
   "cell_type": "code",
   "execution_count": 9,
   "metadata": {},
   "outputs": [
    {
     "data": {
      "text/plain": [
       "(984, 31)"
      ]
     },
     "execution_count": 9,
     "metadata": {},
     "output_type": "execute_result"
    }
   ],
   "source": [
    "balanced_df = pd.concat([balanced_class_0,df_class1],axis=0)\n",
    "balanced_df.shape"
   ]
  },
  {
   "cell_type": "markdown",
   "metadata": {},
   "source": [
    "## Train Test Split"
   ]
  },
  {
   "cell_type": "code",
   "execution_count": 10,
   "metadata": {},
   "outputs": [
    {
     "name": "stdout",
     "output_type": "stream",
     "text": [
      "train indexes shape: (688,)\n",
      "test indexes shape: (296,)\n"
     ]
    }
   ],
   "source": [
    "# Considering a 70 30 Train Test Split\n",
    "\n",
    "all_indexes = np.arange(0,balanced_df.shape[0])\n",
    "train_indexes = np.random.choice(all_indexes,replace=False,size=int(balanced_df.shape[0]*0.7))\n",
    "test_indexes = np.setdiff1d(all_indexes,train_indexes)\n",
    "\n",
    "print(f\"train indexes shape: {train_indexes.shape}\")\n",
    "print(f\"test indexes shape: {test_indexes.shape}\")"
   ]
  },
  {
   "cell_type": "code",
   "execution_count": 11,
   "metadata": {},
   "outputs": [
    {
     "name": "stdout",
     "output_type": "stream",
     "text": [
      "train df shape: (688, 31)\n",
      "test df shape: (296, 31)\n"
     ]
    }
   ],
   "source": [
    "train_df = balanced_df.iloc[train_indexes]\n",
    "test_df = balanced_df.iloc[test_indexes]\n",
    "print(f\"train df shape: {train_df.shape}\")\n",
    "print(f\"test df shape: {test_df.shape}\")"
   ]
  },
  {
   "cell_type": "code",
   "execution_count": 12,
   "metadata": {},
   "outputs": [],
   "source": [
    "xtrain = train_df.drop('Class',axis=1)\n",
    "xtest = test_df.drop('Class',axis=1)\n",
    "ytrain = train_df['Class']\n",
    "ytest = test_df['Class']"
   ]
  },
  {
   "cell_type": "markdown",
   "metadata": {},
   "source": [
    "## Model Definiton (Logistic Regression)"
   ]
  },
  {
   "cell_type": "code",
   "execution_count": 13,
   "metadata": {},
   "outputs": [],
   "source": [
    "class LogisticRegression:\n",
    "    def __init__(self):\n",
    "        print(\"Anushk Pandey 21BCE2517\")\n",
    "        print(\"Init\")\n",
    "        self.theta = None\n",
    "    \n",
    "    def sigmoid(self,z):\n",
    "        return (1/(1+np.exp(-z))) \n",
    "    \n",
    "    def fit(self,X,y,alpha,epochs=1000):\n",
    "        m, n = X.shape\n",
    "        self.theta = np.zeros(n)\n",
    "        for _ in range(epochs):\n",
    "            predictions = self.sigmoid(np.dot(X, self.theta))\n",
    "            gradient = (1 / m) * np.dot(X.T, (predictions - y))\n",
    "            self.theta -= alpha * gradient\n",
    "        \n",
    "    def predict(self,xtest):\n",
    "        probability = self.sigmoid(np.dot(xtest, self.theta))\n",
    "        return (probability >= 0.5).astype(int)\n",
    "    \n",
    "    "
   ]
  },
  {
   "cell_type": "code",
   "execution_count": 14,
   "metadata": {},
   "outputs": [],
   "source": [
    "# Ignore warnings\n",
    "import warnings\n",
    "warnings.filterwarnings('ignore')"
   ]
  },
  {
   "cell_type": "code",
   "execution_count": 15,
   "metadata": {},
   "outputs": [
    {
     "name": "stdout",
     "output_type": "stream",
     "text": [
      "Anushk Pandey 21BCE2517\n",
      "Init\n"
     ]
    }
   ],
   "source": [
    "model = LogisticRegression()\n",
    "model.fit(xtrain,ytrain,alpha=0.001)"
   ]
  },
  {
   "cell_type": "code",
   "execution_count": 23,
   "metadata": {},
   "outputs": [
    {
     "data": {
      "text/plain": [
       "(296,)"
      ]
     },
     "execution_count": 23,
     "metadata": {},
     "output_type": "execute_result"
    }
   ],
   "source": [
    "predictions = model.predict(xtest)\n",
    "predictions.shape"
   ]
  },
  {
   "cell_type": "code",
   "execution_count": 18,
   "metadata": {},
   "outputs": [
    {
     "data": {
      "text/plain": [
       "(296,)"
      ]
     },
     "execution_count": 18,
     "metadata": {},
     "output_type": "execute_result"
    }
   ],
   "source": [
    "ytest.shape"
   ]
  },
  {
   "cell_type": "markdown",
   "metadata": {},
   "source": [
    "## Metrics"
   ]
  },
  {
   "cell_type": "code",
   "execution_count": 19,
   "metadata": {},
   "outputs": [],
   "source": [
    "class Metrics:\n",
    "    def __init__(self):\n",
    "        print(\"Anushk Pandey 21BCE2517\")\n",
    "        print(\"Init\")\n",
    "        self.tp = None\n",
    "        self.tn = None\n",
    "        self.fp = None\n",
    "        self.fn = None\n",
    "    \n",
    "    def calculate_metrics(self,ytrue,ypreds):\n",
    "        if ytrue.shape!=ypreds.shape:\n",
    "            print(\"Incompatible shapes\")\n",
    "            return -1\n",
    "        self.fn=0\n",
    "        self.tn=0\n",
    "        self.tp=0\n",
    "        self.fp=0\n",
    "\n",
    "        for i in range(0,ytrue.shape[0]):\n",
    "            if ytrue.iloc[i]==1 and ypreds[i]==1: #TP\n",
    "                self.tp+=1\n",
    "            if ytrue.iloc[i]==1 and ypreds[i]==0: #FN\n",
    "                self.fn+=1\n",
    "            if ytrue.iloc[i]==0 and ypreds[i]==1: #FP\n",
    "                self.fp+=1\n",
    "            if ytrue.iloc[i]==0 and ypreds[i]==0: #TN\n",
    "                self.tn+=1\n",
    "\n",
    "    def accuracy(self):\n",
    "        return ((self.tp + self.tn) / (self.tp + self.tn + self.fp + self.fn))\n",
    "    def precision(self):\n",
    "        return ((self.tp) / (self.tp +self.fp))\n",
    "        pass\n",
    "    def recall(self):\n",
    "        return ((self.tp) / (self.tp +self.fn))\n",
    "        pass\n",
    "    def f1(self):\n",
    "        return ((2*self.precision()*self.recall()) /  (self.precision() + self.recall()))\n",
    "    \n",
    "    def conf_matrix(self):\n",
    "        return [[self.tn, self.fp], \n",
    "            [self.fn, self.tp]]"
   ]
  },
  {
   "cell_type": "code",
   "execution_count": 20,
   "metadata": {},
   "outputs": [
    {
     "name": "stdout",
     "output_type": "stream",
     "text": [
      "Anushk Pandey 21BCE2517\n",
      "Init\n"
     ]
    }
   ],
   "source": [
    "metrics = Metrics()\n",
    "metrics.calculate_metrics(ytest,ypreds=predictions)"
   ]
  },
  {
   "cell_type": "code",
   "execution_count": 21,
   "metadata": {},
   "outputs": [
    {
     "name": "stdout",
     "output_type": "stream",
     "text": [
      "Accuracy of the model is: 0.5033783783783784\n",
      "precision of the model is: 0.5033783783783784\n",
      "Recall of the model is: 1.0\n",
      "F1 Score of the model is: 0.6696629213483146\n",
      "Anushk Pandey 21BCE2517\n"
     ]
    }
   ],
   "source": [
    "print(f\"Accuracy of the model is: {metrics.accuracy()}\")\n",
    "print(f\"precision of the model is: {metrics.precision()}\")\n",
    "print(f\"Recall of the model is: {metrics.recall()}\")\n",
    "print(f\"F1 Score of the model is: {metrics.f1()}\")\n",
    "print(\"Anushk Pandey 21BCE2517\")"
   ]
  },
  {
   "cell_type": "code",
   "execution_count": 22,
   "metadata": {},
   "outputs": [
    {
     "name": "stdout",
     "output_type": "stream",
     "text": [
      "TP: 149\n",
      "FP: 147\n",
      "TN: 0\n",
      "FN: 0\n",
      "Anushk Pandey 21BCE2517\n"
     ]
    }
   ],
   "source": [
    "print(f\"TP: {metrics.tp}\")\n",
    "print(f\"FP: {metrics.fp}\")\n",
    "print(f\"TN: {metrics.tn}\")\n",
    "print(f\"FN: {metrics.fn}\")\n",
    "print(\"Anushk Pandey 21BCE2517\")"
   ]
  },
  {
   "cell_type": "code",
   "execution_count": null,
   "metadata": {},
   "outputs": [],
   "source": []
  }
 ],
 "metadata": {
  "kernelspec": {
   "display_name": "mlEnv",
   "language": "python",
   "name": "python3"
  },
  "language_info": {
   "codemirror_mode": {
    "name": "ipython",
    "version": 3
   },
   "file_extension": ".py",
   "mimetype": "text/x-python",
   "name": "python",
   "nbconvert_exporter": "python",
   "pygments_lexer": "ipython3",
   "version": "3.9.17"
  }
 },
 "nbformat": 4,
 "nbformat_minor": 2
}
