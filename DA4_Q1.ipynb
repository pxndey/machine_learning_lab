{
 "cells": [
  {
   "cell_type": "markdown",
   "id": "e2f1a8c6",
   "metadata": {},
   "source": [
    "# Importing Required Libraries"
   ]
  },
  {
   "cell_type": "code",
   "execution_count": 31,
   "id": "692be0b3-f5e4-49ac-ae38-344b48028a8b",
   "metadata": {
    "tags": []
   },
   "outputs": [],
   "source": [
    "import os\n",
    "import numpy as np\n",
    "from PIL import Image\n",
    "import numpy as np\n",
    "import pandas as pd\n",
    "import matplotlib.pyplot as plt\n",
    "import seaborn as sns\n",
    "from sklearn.linear_model import LogisticRegression\n",
    "from sklearn.svm import SVC\n",
    "from sklearn.metrics import accuracy_score\n",
    "from sklearn.metrics import precision_score,recall_score,f1_score\n",
    "from sklearn.ensemble import RandomForestClassifier\n",
    "import xgboost as xgb\n",
    "from sklearn.metrics import ConfusionMatrixDisplay,confusion_matrix"
   ]
  },
  {
   "cell_type": "markdown",
   "id": "a02da5e0",
   "metadata": {},
   "source": [
    "# Importing Data"
   ]
  },
  {
   "cell_type": "code",
   "execution_count": 32,
   "id": "409fddd7-a410-43af-b7e1-ba2cd5da256d",
   "metadata": {
    "tags": []
   },
   "outputs": [
    {
     "name": "stdout",
     "output_type": "stream",
     "text": [
      "Loaded 51 healthy images and 51 parkinson images\n",
      "Image shape: (224, 224, 3)\n",
      "Number of classes: 2\n"
     ]
    }
   ],
   "source": [
    "def load_images_from_folder(base_path):\n",
    "    datasets = {'healthy': {'images': [], 'labels': []},\n",
    "                'parkinson': {'images': [], 'labels': []}}\n",
    "    \n",
    "    for dataset in ['testing', 'training']:\n",
    "        dataset_path = os.path.join(base_path, 'spiral', dataset)\n",
    "        \n",
    "        for class_label, class_folder in enumerate(['healthy', 'parkinson']):\n",
    "            class_path = os.path.join(dataset_path, class_folder)\n",
    "            \n",
    "            if os.path.isdir(class_path):\n",
    "                for filename in os.listdir(class_path):\n",
    "                    img_path = os.path.join(class_path, filename)\n",
    "                    \n",
    "                    try:\n",
    "                        with Image.open(img_path) as img:\n",
    "                            img = img.convert('RGB')\n",
    "                            img = img.resize((224, 224))  # Adjust size as needed\n",
    "                            img_array = np.array(img)\n",
    "                            datasets[class_folder]['images'].append(img_array)\n",
    "                            datasets[class_folder]['labels'].append(class_label)\n",
    "                    except Exception as e:\n",
    "                        print(f\"Error loading image {img_path}: {e}\")\n",
    "    \n",
    "    # Convert lists to numpy arrays\n",
    "    for dataset in datasets:\n",
    "        datasets[dataset]['images'] = np.array(datasets[dataset]['images'])\n",
    "        datasets[dataset]['labels'] = np.array(datasets[dataset]['labels'])\n",
    "    \n",
    "    return datasets\n",
    "\n",
    "# Usage\n",
    "base_path = 'D:\\Projects\\Parkinsons_disease\\image_model\\data'\n",
    "datasets = load_images_from_folder(base_path)\n",
    "\n",
    "# Access healthy and parkinson data separately\n",
    "X_healthy, y_healthy = datasets['healthy']['images'], datasets['healthy']['labels']\n",
    "X_parkinson, y_parkinson = datasets['parkinson']['images'], datasets['parkinson']['labels']\n",
    "\n",
    "print(f\"Loaded {len(X_healthy)} healthy images and {len(X_parkinson)} parkinson images\")\n",
    "print(f\"Image shape: {X_healthy[0].shape}\")\n",
    "print(f\"Number of classes: {len(np.unique(np.concatenate([y_healthy, y_parkinson])))}\")"
   ]
  },
  {
   "cell_type": "code",
   "execution_count": 33,
   "id": "33bb4da7-f3cb-4200-9fc0-36b4004c4e6f",
   "metadata": {
    "tags": []
   },
   "outputs": [],
   "source": [
    "df = pd.read_csv('D:/Projects/Parkinsons_disease/image_model/data/parkinsons_disease_data.csv')"
   ]
  },
  {
   "cell_type": "markdown",
   "id": "da464726",
   "metadata": {},
   "source": [
    "# Data Cleaning"
   ]
  },
  {
   "cell_type": "code",
   "execution_count": 34,
   "id": "97d81fd8-4c66-4811-8eea-a941326c9f05",
   "metadata": {
    "tags": []
   },
   "outputs": [],
   "source": [
    "df=df.drop(['PatientID','DoctorInCharge'],axis=1)"
   ]
  },
  {
   "cell_type": "code",
   "execution_count": 35,
   "id": "3cac949f-07c0-441a-8c28-17375d1c0cf5",
   "metadata": {
    "tags": []
   },
   "outputs": [],
   "source": [
    "dff = df.drop(['SystolicBP', 'CholesterolLDL', 'CholesterolHDL',\n",
    "       'CholesterolTriglycerides','DiastolicBP', 'Gender', 'Ethnicity', 'EducationLevel', 'BMI', 'Smoking',\n",
    "       'AlcoholConsumption', 'PhysicalActivity', 'DietQuality', 'SleepQuality',\n",
    "        'TraumaticBrainInjury', 'Hypertension',\n",
    "       'Diabetes', 'Stroke','AlcoholConsumption','Constipation',\n",
    "       'CholesterolTriglycerides',],axis=1)\n",
    "XX = dff.drop('Diagnosis',axis=1)\n",
    "y = dff['Diagnosis']"
   ]
  },
  {
   "cell_type": "code",
   "execution_count": 36,
   "id": "792b49a5-9023-471b-b289-83db7e1651e2",
   "metadata": {
    "tags": []
   },
   "outputs": [],
   "source": [
    "from sklearn.model_selection import train_test_split\n",
    "X_train_clinical,X_test_clinical,y_train_clinical,y_test_clinical = train_test_split(XX,y,random_state=0,test_size=0.2)"
   ]
  },
  {
   "cell_type": "markdown",
   "id": "8ca634df",
   "metadata": {},
   "source": [
    "# Model 1: XGBoost"
   ]
  },
  {
   "cell_type": "code",
   "execution_count": 37,
   "id": "9a4d9040",
   "metadata": {},
   "outputs": [
    {
     "data": {
      "image/png": "[encoded data removed]",
      "text/plain": [
       "<Figure size 640x480 with 2 Axes>"
      ]
     },
     "metadata": {},
     "output_type": "display_data"
    }
   ],
   "source": [
    "dtrain = xgb.DMatrix(X_train_clinical, label=y_train_clinical)\n",
    "dtest = xgb.DMatrix(X_test_clinical, label=y_test_clinical)\n",
    "\n",
    "params = {\n",
    "    'objective': 'binary:logistic',  # Specify binary classification\n",
    "    'max_depth': 6,  # Maximum depth of a tree\n",
    "    'eta': 0.2,  # Learning rate\n",
    "    'eval_metric': 'logloss'  # Evaluation metric\n",
    "}\n",
    "\n",
    "# Train the model\n",
    "num_rounds = 250\n",
    "bst = xgb.train(params=params,dtrain=dtrain, num_boost_round=num_rounds)\n",
    "preds = bst.predict(dtest)\n",
    "predictions = [1 if p > 0.5 else 0 for p in preds]\n",
    "disp = ConfusionMatrixDisplay(confusion_matrix(y_test_clinical,predictions))\n",
    "disp.plot()\n",
    "plt.show()"
   ]
  },
  {
   "cell_type": "code",
   "execution_count": 38,
   "id": "b837f33e-35d8-47b4-aafc-bb489bf955eb",
   "metadata": {
    "tags": []
   },
   "outputs": [
    {
     "data": {
      "text/plain": [
       "<Axes: title={'center': 'Feature importance'}, xlabel='F score', ylabel='Features'>"
      ]
     },
     "execution_count": 38,
     "metadata": {},
     "output_type": "execute_result"
    },
    {
     "data": {
      "image/png": "[encoded data removed]",
      "text/plain": [
       "<Figure size 640x480 with 1 Axes>"
      ]
     },
     "metadata": {},
     "output_type": "display_data"
    }
   ],
   "source": [
    "xgb.plot_importance(bst)"
   ]
  },
  {
   "cell_type": "code",
   "execution_count": 39,
   "id": "d42aea3c-a875-4070-9ce5-5a64d27db663",
   "metadata": {
    "tags": []
   },
   "outputs": [],
   "source": [
    "seed = np.random.randint(0,51,45,)"
   ]
  },
  {
   "cell_type": "code",
   "execution_count": 40,
   "id": "3f5122e4-175b-4c8a-b61d-9ad37e79fe47",
   "metadata": {
    "tags": []
   },
   "outputs": [
    {
     "data": {
      "text/plain": [
       "array([43,  6,  8, 14, 32, 50,  0, 12,  5, 43, 40, 30, 14, 27, 22, 11, 21,\n",
       "        5, 24, 32, 43, 13, 29, 39, 26,  3, 35, 15, 20, 11, 35, 24, 46, 11,\n",
       "       11, 40, 14, 25,  0, 31, 17, 33, 10, 22, 14])"
      ]
     },
     "execution_count": 40,
     "metadata": {},
     "output_type": "execute_result"
    }
   ],
   "source": [
    "seed"
   ]
  },
  {
   "cell_type": "code",
   "execution_count": 41,
   "id": "b8fc40a3-9cdd-45cd-aa97-f0985fc43c97",
   "metadata": {
    "tags": []
   },
   "outputs": [],
   "source": [
    "X_test_image_df = []\n",
    "Y_test_image_labels = [0]*45 + [1]*45\n",
    "\n",
    "for element in seed:\n",
    "    X_test_image_df.append(X_healthy[element])\n",
    "for element in seed:\n",
    "    X_test_image_df.append(X_parkinson[element])"
   ]
  },
  {
   "cell_type": "code",
   "execution_count": 42,
   "id": "ab8ae9ab-4cf6-4d78-b7f0-99573c839d02",
   "metadata": {
    "tags": []
   },
   "outputs": [],
   "source": [
    "X_test_image_df = np.array(X_test_image_df)"
   ]
  },
  {
   "cell_type": "markdown",
   "id": "40d9a716",
   "metadata": {},
   "source": [
    "# Model 2: ResNet152 (PreTrained) "
   ]
  },
  {
   "cell_type": "code",
   "execution_count": 43,
   "id": "25b009f0-d52d-4f7a-a258-75253fbd5443",
   "metadata": {
    "tags": []
   },
   "outputs": [],
   "source": [
    "from sklearn.metrics.pairwise import cosine_similarity\n",
    "import tensorflow as tf\n",
    "\n",
    "\n",
    "def classify_images(array_of_images):\n",
    "    embeddings_A = np.load('D:\\\\Projects\\\\Parkinsons_disease\\\\image_model\\\\embeddings\\\\healthy_embeddings.npy')\n",
    "    embeddings_B = np.load('D:\\\\Projects\\\\Parkinsons_disease\\\\image_model\\\\embeddings\\\\parkinson_embeddings.npy')\n",
    "    parkinson_embedding_model = tf.keras.models.load_model('D:\\\\Projects\\\\Parkinsons_disease\\\\image_model\\\\data\\\\parkinson_embedding_model.h5')\n",
    "    healthy_embedding_model = tf.keras.models.load_model('D:\\\\Projects\\\\Parkinsons_disease\\\\image_model\\\\data\\\\healthy_embedding_model.h5')\n",
    "    class_confidence = []\n",
    "    for i in range(array_of_images.shape[0]):\n",
    "        embedding_A = healthy_embedding_model.predict(np.expand_dims(array_of_images[i], axis=0))\n",
    "        embedding_B = parkinson_embedding_model.predict(np.expand_dims(array_of_images[i], axis=0))\n",
    "    \n",
    "        # Compute similarity scores\n",
    "        sim_A = np.max(cosine_similarity(embedding_A, embeddings_A))\n",
    "        sim_B = np.max(cosine_similarity(embedding_B, embeddings_B))\n",
    "        if sim_A > sim_B:\n",
    "            class_confidence.append(abs(1-((sim_A+1)/2)))\n",
    "        else:\n",
    "            class_confidence.append(((sim_B+1)/2))\n",
    "    return class_confidence"
   ]
  },
  {
   "cell_type": "code",
   "execution_count": 44,
   "id": "3e032e9a-5542-49d0-9fe6-df1959b96151",
   "metadata": {
    "scrolled": true,
    "tags": []
   },
   "outputs": [
    {
     "name": "stdout",
     "output_type": "stream",
     "text": [
      "WARNING:tensorflow:No training configuration found in the save file, so the model was *not* compiled. Compile it manually.\n",
      "WARNING:tensorflow:No training configuration found in the save file, so the model was *not* compiled. Compile it manually.\n",
      "1/1 [==============================] - 3s 3s/step\n",
      "1/1 [==============================] - 3s 3s/step\n",
      "1/1 [==============================] - 0s 217ms/step\n",
      "1/1 [==============================] - 0s 207ms/step\n",
      "1/1 [==============================] - 0s 202ms/step\n",
      "1/1 [==============================] - 0s 202ms/step\n",
      "1/1 [==============================] - 0s 208ms/step\n",
      "1/1 [==============================] - 0s 201ms/step\n",
      "1/1 [==============================] - 0s 205ms/step\n",
      "1/1 [==============================] - 0s 202ms/step\n",
      "1/1 [==============================] - 0s 198ms/step\n",
      "1/1 [==============================] - 0s 198ms/step\n",
      "1/1 [==============================] - 0s 214ms/step\n",
      "1/1 [==============================] - 0s 199ms/step\n",
      "1/1 [==============================] - 0s 195ms/step\n",
      "1/1 [==============================] - 0s 198ms/step\n",
      "1/1 [==============================] - 0s 221ms/step\n",
      "1/1 [==============================] - 0s 201ms/step\n",
      "1/1 [==============================] - 0s 199ms/step\n",
      "1/1 [==============================] - 0s 200ms/step\n",
      "1/1 [==============================] - 0s 201ms/step\n",
      "1/1 [==============================] - 0s 202ms/step\n",
      "1/1 [==============================] - 0s 202ms/step\n",
      "1/1 [==============================] - 0s 212ms/step\n",
      "1/1 [==============================] - 0s 222ms/step\n",
      "1/1 [==============================] - 0s 217ms/step\n",
      "1/1 [==============================] - 0s 214ms/step\n",
      "1/1 [==============================] - 0s 236ms/step\n",
      "1/1 [==============================] - 0s 231ms/step\n",
      "1/1 [==============================] - 0s 222ms/step\n",
      "1/1 [==============================] - 0s 249ms/step\n",
      "1/1 [==============================] - 0s 250ms/step\n",
      "1/1 [==============================] - 0s 241ms/step\n",
      "1/1 [==============================] - 0s 248ms/step\n",
      "1/1 [==============================] - 0s 226ms/step\n",
      "1/1 [==============================] - 0s 234ms/step\n",
      "1/1 [==============================] - 0s 247ms/step\n",
      "1/1 [==============================] - 0s 240ms/step\n",
      "1/1 [==============================] - 0s 306ms/step\n",
      "1/1 [==============================] - 0s 227ms/step\n",
      "1/1 [==============================] - 0s 208ms/step\n",
      "1/1 [==============================] - 0s 207ms/step\n",
      "1/1 [==============================] - 0s 192ms/step\n",
      "1/1 [==============================] - 0s 188ms/step\n",
      "1/1 [==============================] - 0s 208ms/step\n",
      "1/1 [==============================] - 0s 200ms/step\n",
      "1/1 [==============================] - 0s 212ms/step\n",
      "1/1 [==============================] - 0s 215ms/step\n",
      "1/1 [==============================] - 0s 207ms/step\n",
      "1/1 [==============================] - 0s 204ms/step\n",
      "1/1 [==============================] - 0s 201ms/step\n",
      "1/1 [==============================] - 0s 222ms/step\n",
      "1/1 [==============================] - 0s 229ms/step\n",
      "1/1 [==============================] - 0s 256ms/step\n",
      "1/1 [==============================] - 0s 191ms/step\n",
      "1/1 [==============================] - 0s 241ms/step\n",
      "1/1 [==============================] - 0s 214ms/step\n",
      "1/1 [==============================] - 0s 229ms/step\n",
      "1/1 [==============================] - 0s 227ms/step\n",
      "1/1 [==============================] - 0s 214ms/step\n",
      "1/1 [==============================] - 0s 224ms/step\n",
      "1/1 [==============================] - 0s 241ms/step\n",
      "1/1 [==============================] - 0s 215ms/step\n",
      "1/1 [==============================] - 0s 227ms/step\n",
      "1/1 [==============================] - 0s 205ms/step\n",
      "1/1 [==============================] - 0s 205ms/step\n",
      "1/1 [==============================] - 0s 210ms/step\n",
      "1/1 [==============================] - 0s 247ms/step\n",
      "1/1 [==============================] - 0s 247ms/step\n",
      "1/1 [==============================] - 0s 223ms/step\n",
      "1/1 [==============================] - 0s 248ms/step\n",
      "1/1 [==============================] - 0s 214ms/step\n",
      "1/1 [==============================] - 0s 217ms/step\n",
      "1/1 [==============================] - 0s 211ms/step\n",
      "1/1 [==============================] - 0s 214ms/step\n",
      "1/1 [==============================] - 0s 225ms/step\n",
      "1/1 [==============================] - 0s 210ms/step\n",
      "1/1 [==============================] - 0s 213ms/step\n",
      "1/1 [==============================] - 0s 227ms/step\n",
      "1/1 [==============================] - 0s 205ms/step\n",
      "1/1 [==============================] - 0s 206ms/step\n",
      "1/1 [==============================] - 0s 216ms/step\n",
      "1/1 [==============================] - 0s 230ms/step\n",
      "1/1 [==============================] - 0s 245ms/step\n",
      "1/1 [==============================] - 0s 231ms/step\n",
      "1/1 [==============================] - 0s 228ms/step\n",
      "1/1 [==============================] - 0s 269ms/step\n",
      "1/1 [==============================] - 0s 243ms/step\n",
      "1/1 [==============================] - 0s 237ms/step\n",
      "1/1 [==============================] - 0s 250ms/step\n",
      "1/1 [==============================] - 0s 220ms/step\n",
      "1/1 [==============================] - 0s 219ms/step\n",
      "1/1 [==============================] - 0s 219ms/step\n",
      "1/1 [==============================] - 0s 219ms/step\n",
      "1/1 [==============================] - 0s 234ms/step\n",
      "1/1 [==============================] - 0s 219ms/step\n",
      "1/1 [==============================] - 0s 219ms/step\n",
      "1/1 [==============================] - 0s 251ms/step\n",
      "1/1 [==============================] - 0s 234ms/step\n",
      "1/1 [==============================] - 0s 219ms/step\n",
      "1/1 [==============================] - 0s 250ms/step\n",
      "1/1 [==============================] - 0s 219ms/step\n",
      "1/1 [==============================] - 0s 219ms/step\n",
      "1/1 [==============================] - 0s 219ms/step\n",
      "1/1 [==============================] - 0s 232ms/step\n",
      "1/1 [==============================] - 0s 203ms/step\n",
      "1/1 [==============================] - 0s 234ms/step\n",
      "1/1 [==============================] - 0s 250ms/step\n",
      "1/1 [==============================] - 0s 219ms/step\n",
      "1/1 [==============================] - 0s 219ms/step\n",
      "1/1 [==============================] - 0s 203ms/step\n",
      "1/1 [==============================] - 0s 219ms/step\n",
      "1/1 [==============================] - 0s 204ms/step\n",
      "1/1 [==============================] - 0s 219ms/step\n",
      "1/1 [==============================] - 0s 234ms/step\n",
      "1/1 [==============================] - 0s 203ms/step\n",
      "1/1 [==============================] - 0s 219ms/step\n",
      "1/1 [==============================] - 0s 234ms/step\n",
      "1/1 [==============================] - 0s 245ms/step\n",
      "1/1 [==============================] - 0s 219ms/step\n",
      "1/1 [==============================] - 0s 203ms/step\n",
      "1/1 [==============================] - 0s 235ms/step\n",
      "1/1 [==============================] - 0s 219ms/step\n",
      "1/1 [==============================] - 0s 219ms/step\n",
      "1/1 [==============================] - 0s 204ms/step\n",
      "1/1 [==============================] - 0s 209ms/step\n",
      "1/1 [==============================] - 0s 234ms/step\n",
      "1/1 [==============================] - 0s 203ms/step\n",
      "1/1 [==============================] - 0s 203ms/step\n",
      "1/1 [==============================] - 0s 203ms/step\n",
      "1/1 [==============================] - 0s 234ms/step\n",
      "1/1 [==============================] - 0s 234ms/step\n",
      "1/1 [==============================] - 0s 225ms/step\n",
      "1/1 [==============================] - 0s 204ms/step\n",
      "1/1 [==============================] - 0s 219ms/step\n",
      "1/1 [==============================] - 0s 234ms/step\n",
      "1/1 [==============================] - 0s 219ms/step\n",
      "1/1 [==============================] - 0s 219ms/step\n",
      "1/1 [==============================] - 0s 203ms/step\n",
      "1/1 [==============================] - 0s 256ms/step\n",
      "1/1 [==============================] - 0s 238ms/step\n",
      "1/1 [==============================] - 0s 229ms/step\n",
      "1/1 [==============================] - 0s 212ms/step\n",
      "1/1 [==============================] - 0s 203ms/step\n",
      "1/1 [==============================] - 0s 219ms/step\n",
      "1/1 [==============================] - 0s 203ms/step\n",
      "1/1 [==============================] - 0s 234ms/step\n",
      "1/1 [==============================] - 0s 210ms/step\n",
      "1/1 [==============================] - 0s 266ms/step\n",
      "1/1 [==============================] - 0s 250ms/step\n",
      "1/1 [==============================] - 0s 219ms/step\n",
      "1/1 [==============================] - 0s 234ms/step\n",
      "1/1 [==============================] - 0s 234ms/step\n",
      "1/1 [==============================] - 0s 203ms/step\n",
      "1/1 [==============================] - 0s 243ms/step\n",
      "1/1 [==============================] - 0s 262ms/step\n",
      "1/1 [==============================] - 0s 224ms/step\n",
      "1/1 [==============================] - 0s 230ms/step\n",
      "1/1 [==============================] - 0s 209ms/step\n",
      "1/1 [==============================] - 0s 219ms/step\n",
      "1/1 [==============================] - 0s 219ms/step\n",
      "1/1 [==============================] - 0s 203ms/step\n",
      "1/1 [==============================] - 0s 203ms/step\n",
      "1/1 [==============================] - 0s 203ms/step\n",
      "1/1 [==============================] - 0s 204ms/step\n",
      "1/1 [==============================] - 0s 203ms/step\n",
      "1/1 [==============================] - 0s 203ms/step\n",
      "1/1 [==============================] - 0s 203ms/step\n",
      "1/1 [==============================] - 0s 204ms/step\n",
      "1/1 [==============================] - 0s 208ms/step\n",
      "1/1 [==============================] - 0s 188ms/step\n",
      "1/1 [==============================] - 0s 219ms/step\n",
      "1/1 [==============================] - 0s 203ms/step\n",
      "1/1 [==============================] - 0s 203ms/step\n",
      "1/1 [==============================] - 0s 203ms/step\n",
      "1/1 [==============================] - 0s 203ms/step\n",
      "1/1 [==============================] - 0s 203ms/step\n",
      "1/1 [==============================] - 0s 188ms/step\n",
      "1/1 [==============================] - 0s 203ms/step\n",
      "1/1 [==============================] - 0s 197ms/step\n"
     ]
    }
   ],
   "source": [
    "image_confidence = classify_images(X_test_image_df)"
   ]
  },
  {
   "cell_type": "code",
   "execution_count": 45,
   "id": "a74895bd-0ac6-48f9-ac06-7e0f837c8975",
   "metadata": {
    "scrolled": true,
    "tags": []
   },
   "outputs": [
    {
     "data": {
      "text/plain": [
       "[5.960464477539063e-08,\n",
       " 3.5762786865234375e-07,\n",
       " 5.960464477539063e-08,\n",
       " 2.9802322387695312e-08,\n",
       " 0.08662673830986023,\n",
       " 2.980232238769531e-07,\n",
       " 1.1920928955078125e-07,\n",
       " 0.047133684158325195,\n",
       " 1.7881393432617188e-07,\n",
       " 5.960464477539063e-08,\n",
       " 2.682209014892578e-07,\n",
       " 1.1920928955078125e-07,\n",
       " 2.9802322387695312e-08,\n",
       " 0.05705663561820984,\n",
       " 0.04715079069137573,\n",
       " 0.03345552086830139,\n",
       " 2.384185791015625e-07,\n",
       " 1.7881393432617188e-07,\n",
       " 5.960464477539063e-08,\n",
       " 0.08662673830986023,\n",
       " 5.960464477539063e-08,\n",
       " 6.556510925292969e-07,\n",
       " 0.048642873764038086,\n",
       " 0.040411949157714844,\n",
       " 0.07269370555877686,\n",
       " 8.940696716308594e-08,\n",
       " 0.07404455542564392,\n",
       " 3.5762786865234375e-07,\n",
       " 5.960464477539063e-08,\n",
       " 0.03345552086830139,\n",
       " 0.07404455542564392,\n",
       " 5.960464477539063e-08,\n",
       " 3.5762786865234375e-07,\n",
       " 0.03345552086830139,\n",
       " 0.03345552086830139,\n",
       " 2.682209014892578e-07,\n",
       " 2.9802322387695312e-08,\n",
       " 2.980232238769531e-07,\n",
       " 1.1920928955078125e-07,\n",
       " 4.470348358154297e-07,\n",
       " 0.09845471382141113,\n",
       " 0.030162781476974487,\n",
       " 0.09715503454208374,\n",
       " 0.04715079069137573,\n",
       " 2.9802322387695312e-08,\n",
       " 1.0,\n",
       " 1.0000001788139343,\n",
       " 0.9999999701976776,\n",
       " 1.0000001192092896,\n",
       " 0.8439946472644806,\n",
       " 0.9999991953372955,\n",
       " 0.9999997019767761,\n",
       " 0.09804460406303406,\n",
       " 0.999999463558197,\n",
       " 1.0,\n",
       " 0.9999997317790985,\n",
       " 1.0000001192092896,\n",
       " 1.0000001192092896,\n",
       " 0.893825113773346,\n",
       " 0.8849819004535675,\n",
       " 0.9047244191169739,\n",
       " 1.0000001192092896,\n",
       " 0.999999463558197,\n",
       " 0.9999999701976776,\n",
       " 0.8439946472644806,\n",
       " 1.0,\n",
       " 1.0000001788139343,\n",
       " 0.10649552941322327,\n",
       " 0.08997878432273865,\n",
       " 0.8782637715339661,\n",
       " 1.0000000596046448,\n",
       " 0.8998717963695526,\n",
       " 0.9999995529651642,\n",
       " 0.9999997615814209,\n",
       " 0.9047244191169739,\n",
       " 0.8998717963695526,\n",
       " 0.9999999701976776,\n",
       " 0.9999997615814209,\n",
       " 0.9047244191169739,\n",
       " 0.9047244191169739,\n",
       " 0.9999997317790985,\n",
       " 1.0000001192092896,\n",
       " 0.9999998211860657,\n",
       " 0.9999997019767761,\n",
       " 0.9999997317790985,\n",
       " 0.9141336679458618,\n",
       " 0.9285675585269928,\n",
       " 0.8747004270553589,\n",
       " 0.8849819004535675,\n",
       " 1.0000001192092896]"
      ]
     },
     "execution_count": 45,
     "metadata": {},
     "output_type": "execute_result"
    }
   ],
   "source": [
    "image_confidence"
   ]
  },
  {
   "cell_type": "markdown",
   "id": "80e84133",
   "metadata": {},
   "source": [
    "# Creating Dataset with both Models' confidence"
   ]
  },
  {
   "cell_type": "code",
   "execution_count": 46,
   "id": "3d0d038b-5df3-42b2-a6e4-a33454875e7d",
   "metadata": {
    "tags": []
   },
   "outputs": [
    {
     "data": {
      "text/plain": [
       "(array([0, 1], dtype=int64), array([155, 266], dtype=int64))"
      ]
     },
     "execution_count": 46,
     "metadata": {},
     "output_type": "execute_result"
    }
   ],
   "source": [
    "np.unique(y_test_clinical,return_counts=True)"
   ]
  },
  {
   "cell_type": "code",
   "execution_count": 47,
   "id": "0907b74e-0cd4-4489-80ac-6da98ed4147c",
   "metadata": {
    "tags": []
   },
   "outputs": [
    {
     "data": {
      "text/plain": [
       "array([  3,   5,   7,   8,  10,  12,  14,  18,  19,  20,  21,  24,  25,\n",
       "        27,  28,  29,  34,  35,  36,  40,  42,  44,  46,  47,  51,  52,\n",
       "        65,  66,  69,  72,  74,  75,  76,  79,  83,  85,  88,  89,  90,\n",
       "        93,  94,  95,  96,  97, 105, 106, 108, 111, 114, 117, 123, 124,\n",
       "       125, 128, 132, 134, 135, 137, 139, 140, 142, 143, 145, 147, 150,\n",
       "       152, 153, 158, 162, 164, 166, 169, 170, 171, 174, 179, 180, 184,\n",
       "       189, 190, 196, 203, 204, 205, 206, 215, 216, 220, 226, 227, 232,\n",
       "       234, 238, 249, 252, 253, 258, 260, 262, 263, 265, 267, 268, 270,\n",
       "       273, 277, 279, 290, 295, 296, 297, 302, 305, 309, 310, 313, 315,\n",
       "       316, 317, 320, 324, 326, 331, 333, 334, 335, 340, 344, 347, 350,\n",
       "       354, 361, 362, 364, 369, 370, 373, 376, 377, 383, 387, 390, 391,\n",
       "       392, 393, 396, 397, 403, 407, 408, 412, 415, 418, 419, 420],\n",
       "      dtype=int64)"
      ]
     },
     "execution_count": 47,
     "metadata": {},
     "output_type": "execute_result"
    }
   ],
   "source": [
    "np.where(y_test_clinical==0)[0]"
   ]
  },
  {
   "cell_type": "code",
   "execution_count": 48,
   "id": "942b4283-1cf0-469d-af11-af346cda4480",
   "metadata": {
    "tags": []
   },
   "outputs": [
    {
     "data": {
      "text/plain": [
       "array([169, 340,  10,  40, 296, 128,  47,  42, 179, 203, 180, 265, 320,\n",
       "       277,  83,  52,  35, 114, 150,   8, 376, 238, 106,  44, 297, 134,\n",
       "       258, 263,  65, 184, 220, 364, 313, 350, 143, 158, 302, 153, 317,\n",
       "       117,  85, 268,  76, 415, 252], dtype=int64)"
      ]
     },
     "execution_count": 48,
     "metadata": {},
     "output_type": "execute_result"
    }
   ],
   "source": [
    "np.random.choice(np.where(y_test_clinical==0)[0],size=45,replace=False)"
   ]
  },
  {
   "cell_type": "code",
   "execution_count": 49,
   "id": "373b42a5-4638-4057-96b2-e9c1d6ab8d17",
   "metadata": {
    "tags": []
   },
   "outputs": [],
   "source": [
    "np.random.seed(0)"
   ]
  },
  {
   "cell_type": "code",
   "execution_count": 50,
   "id": "353d7420-3e80-4162-9020-bde0d900bd62",
   "metadata": {
    "tags": []
   },
   "outputs": [],
   "source": [
    "indexes = np.where(y_test_clinical == 1)[0]\n",
    "sampled_indexes_positive = np.random.choice(indexes, size=45, replace=False)\n"
   ]
  },
  {
   "cell_type": "code",
   "execution_count": 51,
   "id": "7583d9e3-0e09-4e29-a442-98e8781fd717",
   "metadata": {
    "tags": []
   },
   "outputs": [],
   "source": [
    "zero_indexes = np.where(y_test_clinical == 0)[0]\n",
    "sampled_indexes_negative = np.random.choice(zero_indexes, size=45, replace=False)\n"
   ]
  },
  {
   "cell_type": "code",
   "execution_count": 52,
   "id": "316c59cb-d05e-417e-91bc-e02b9010d0ef",
   "metadata": {
    "tags": []
   },
   "outputs": [],
   "source": [
    "seed_clinical = np.concatenate((sampled_indexes_negative,sampled_indexes_positive))\n",
    "# seed_clinical.append([1]*45)\n",
    "\n",
    "seed_clinical = np.array(seed_clinical)\n",
    "dff.loc[seed_clinical[0]]\n",
    "# X_test_clinical\n",
    "X_test_clinical_final = X_test_clinical.iloc[seed_clinical]\n",
    "y_test_clinical_final = np.array(y_test_clinical.iloc[seed_clinical])"
   ]
  },
  {
   "cell_type": "code",
   "execution_count": 53,
   "id": "d189d2c2-94e6-422b-a85a-242b319b955d",
   "metadata": {
    "tags": []
   },
   "outputs": [],
   "source": [
    "dtest = xgb.DMatrix(X_test_clinical_final, label=y_test_clinical_final)"
   ]
  },
  {
   "cell_type": "code",
   "execution_count": 54,
   "id": "2da40f1e-b6e2-4f1a-ad08-95a02f4b6567",
   "metadata": {
    "tags": []
   },
   "outputs": [],
   "source": [
    "clinical_preds = svcModel.predict(X_test_clinical_final)"
   ]
  },
  {
   "cell_type": "code",
   "execution_count": 55,
   "id": "1a5390fa-9949-478c-ad88-2d0a992407b6",
   "metadata": {
    "tags": []
   },
   "outputs": [
    {
     "data": {
      "text/plain": [
       "array([0, 0, 0, 0, 0, 0, 0, 1, 0, 0, 0, 0, 1, 0, 0, 0, 0, 0, 0, 0, 0, 0,\n",
       "       0, 0, 0, 0, 0, 1, 0, 0, 1, 0, 0, 0, 1, 0, 0, 1, 0, 0, 0, 0, 0, 0,\n",
       "       0, 1, 1, 1, 1, 1, 1, 1, 1, 1, 1, 1, 1, 1, 1, 0, 1, 1, 1, 1, 1, 1,\n",
       "       1, 1, 1, 1, 1, 1, 1, 1, 1, 1, 1, 1, 1, 1, 1, 1, 1, 1, 1, 1, 1, 1,\n",
       "       1, 0], dtype=int64)"
      ]
     },
     "execution_count": 55,
     "metadata": {},
     "output_type": "execute_result"
    }
   ],
   "source": [
    "clinical_preds"
   ]
  },
  {
   "cell_type": "code",
   "execution_count": 56,
   "id": "1322376e-b0a3-49c5-9978-92b05a1771db",
   "metadata": {
    "tags": []
   },
   "outputs": [],
   "source": [
    "DF = pd.DataFrame(columns=['CNN_Confidence','clinical_confidence','diagnosis'])"
   ]
  },
  {
   "cell_type": "code",
   "execution_count": 57,
   "id": "424be48f-8ebf-4a94-9459-1aa3f537445a",
   "metadata": {
    "scrolled": true,
    "tags": []
   },
   "outputs": [
    {
     "data": {
      "text/plain": [
       "[5.960464477539063e-08,\n",
       " 3.5762786865234375e-07,\n",
       " 5.960464477539063e-08,\n",
       " 2.9802322387695312e-08,\n",
       " 0.08662673830986023,\n",
       " 2.980232238769531e-07,\n",
       " 1.1920928955078125e-07,\n",
       " 0.047133684158325195,\n",
       " 1.7881393432617188e-07,\n",
       " 5.960464477539063e-08,\n",
       " 2.682209014892578e-07,\n",
       " 1.1920928955078125e-07,\n",
       " 2.9802322387695312e-08,\n",
       " 0.05705663561820984,\n",
       " 0.04715079069137573,\n",
       " 0.03345552086830139,\n",
       " 2.384185791015625e-07,\n",
       " 1.7881393432617188e-07,\n",
       " 5.960464477539063e-08,\n",
       " 0.08662673830986023,\n",
       " 5.960464477539063e-08,\n",
       " 6.556510925292969e-07,\n",
       " 0.048642873764038086,\n",
       " 0.040411949157714844,\n",
       " 0.07269370555877686,\n",
       " 8.940696716308594e-08,\n",
       " 0.07404455542564392,\n",
       " 3.5762786865234375e-07,\n",
       " 5.960464477539063e-08,\n",
       " 0.03345552086830139,\n",
       " 0.07404455542564392,\n",
       " 5.960464477539063e-08,\n",
       " 3.5762786865234375e-07,\n",
       " 0.03345552086830139,\n",
       " 0.03345552086830139,\n",
       " 2.682209014892578e-07,\n",
       " 2.9802322387695312e-08,\n",
       " 2.980232238769531e-07,\n",
       " 1.1920928955078125e-07,\n",
       " 4.470348358154297e-07,\n",
       " 0.09845471382141113,\n",
       " 0.030162781476974487,\n",
       " 0.09715503454208374,\n",
       " 0.04715079069137573,\n",
       " 2.9802322387695312e-08,\n",
       " 1.0,\n",
       " 1.0000001788139343,\n",
       " 0.9999999701976776,\n",
       " 1.0000001192092896,\n",
       " 0.8439946472644806,\n",
       " 0.9999991953372955,\n",
       " 0.9999997019767761,\n",
       " 0.09804460406303406,\n",
       " 0.999999463558197,\n",
       " 1.0,\n",
       " 0.9999997317790985,\n",
       " 1.0000001192092896,\n",
       " 1.0000001192092896,\n",
       " 0.893825113773346,\n",
       " 0.8849819004535675,\n",
       " 0.9047244191169739,\n",
       " 1.0000001192092896,\n",
       " 0.999999463558197,\n",
       " 0.9999999701976776,\n",
       " 0.8439946472644806,\n",
       " 1.0,\n",
       " 1.0000001788139343,\n",
       " 0.10649552941322327,\n",
       " 0.08997878432273865,\n",
       " 0.8782637715339661,\n",
       " 1.0000000596046448,\n",
       " 0.8998717963695526,\n",
       " 0.9999995529651642,\n",
       " 0.9999997615814209,\n",
       " 0.9047244191169739,\n",
       " 0.8998717963695526,\n",
       " 0.9999999701976776,\n",
       " 0.9999997615814209,\n",
       " 0.9047244191169739,\n",
       " 0.9047244191169739,\n",
       " 0.9999997317790985,\n",
       " 1.0000001192092896,\n",
       " 0.9999998211860657,\n",
       " 0.9999997019767761,\n",
       " 0.9999997317790985,\n",
       " 0.9141336679458618,\n",
       " 0.9285675585269928,\n",
       " 0.8747004270553589,\n",
       " 0.8849819004535675,\n",
       " 1.0000001192092896]"
      ]
     },
     "execution_count": 57,
     "metadata": {},
     "output_type": "execute_result"
    }
   ],
   "source": [
    "image_confidence"
   ]
  },
  {
   "cell_type": "code",
   "execution_count": 58,
   "id": "c2c5eadf-9915-446a-9867-6b36c447cee9",
   "metadata": {
    "tags": []
   },
   "outputs": [],
   "source": [
    "# Assuming DF is your existing DataFrame\n",
    "new_rows = []\n",
    "for i in range(0, 90):\n",
    "    new_rows.append([image_confidence[i], clinical_preds[i], Y_test_image_labels[i]])\n",
    "\n",
    "# Create a new DataFrame from the new rows\n",
    "new_df = pd.DataFrame(new_rows, columns=['Image Confidence', 'Clinical Predictions', 'Test Labels'])\n",
    "\n",
    "# Concatenate the new DataFrame with the existing one\n",
    "DF = pd.concat([DF, new_df], ignore_index=True)"
   ]
  },
  {
   "cell_type": "code",
   "execution_count": 59,
   "id": "19784975-84e1-4d25-bd8c-aca3947f5799",
   "metadata": {
    "tags": []
   },
   "outputs": [],
   "source": [
    "DF = DF.drop(['CNN_Confidence','clinical_confidence','diagnosis'],axis=1)"
   ]
  },
  {
   "cell_type": "code",
   "execution_count": 60,
   "id": "9a7b5dec-4cfd-44cf-b984-28a4c3710122",
   "metadata": {
    "tags": []
   },
   "outputs": [
    {
     "data": {
      "text/html": [
       "<div>\n",
       "<style scoped>\n",
       "    .dataframe tbody tr th:only-of-type {\n",
       "        vertical-align: middle;\n",
       "    }\n",
       "\n",
       "    .dataframe tbody tr th {\n",
       "        vertical-align: top;\n",
       "    }\n",
       "\n",
       "    .dataframe thead th {\n",
       "        text-align: right;\n",
       "    }\n",
       "</style>\n",
       "<table border=\"1\" class=\"dataframe\">\n",
       "  <thead>\n",
       "    <tr style=\"text-align: right;\">\n",
       "      <th></th>\n",
       "      <th>Image Confidence</th>\n",
       "      <th>Clinical Predictions</th>\n",
       "      <th>Test Labels</th>\n",
       "    </tr>\n",
       "  </thead>\n",
       "  <tbody>\n",
       "    <tr>\n",
       "      <th>0</th>\n",
       "      <td>5.960464e-08</td>\n",
       "      <td>0.0</td>\n",
       "      <td>0.0</td>\n",
       "    </tr>\n",
       "    <tr>\n",
       "      <th>1</th>\n",
       "      <td>3.576279e-07</td>\n",
       "      <td>0.0</td>\n",
       "      <td>0.0</td>\n",
       "    </tr>\n",
       "    <tr>\n",
       "      <th>2</th>\n",
       "      <td>5.960464e-08</td>\n",
       "      <td>0.0</td>\n",
       "      <td>0.0</td>\n",
       "    </tr>\n",
       "    <tr>\n",
       "      <th>3</th>\n",
       "      <td>2.980232e-08</td>\n",
       "      <td>0.0</td>\n",
       "      <td>0.0</td>\n",
       "    </tr>\n",
       "    <tr>\n",
       "      <th>4</th>\n",
       "      <td>8.662674e-02</td>\n",
       "      <td>0.0</td>\n",
       "      <td>0.0</td>\n",
       "    </tr>\n",
       "    <tr>\n",
       "      <th>...</th>\n",
       "      <td>...</td>\n",
       "      <td>...</td>\n",
       "      <td>...</td>\n",
       "    </tr>\n",
       "    <tr>\n",
       "      <th>85</th>\n",
       "      <td>9.141337e-01</td>\n",
       "      <td>1.0</td>\n",
       "      <td>1.0</td>\n",
       "    </tr>\n",
       "    <tr>\n",
       "      <th>86</th>\n",
       "      <td>9.285676e-01</td>\n",
       "      <td>1.0</td>\n",
       "      <td>1.0</td>\n",
       "    </tr>\n",
       "    <tr>\n",
       "      <th>87</th>\n",
       "      <td>8.747004e-01</td>\n",
       "      <td>1.0</td>\n",
       "      <td>1.0</td>\n",
       "    </tr>\n",
       "    <tr>\n",
       "      <th>88</th>\n",
       "      <td>8.849819e-01</td>\n",
       "      <td>1.0</td>\n",
       "      <td>1.0</td>\n",
       "    </tr>\n",
       "    <tr>\n",
       "      <th>89</th>\n",
       "      <td>1.000000e+00</td>\n",
       "      <td>0.0</td>\n",
       "      <td>1.0</td>\n",
       "    </tr>\n",
       "  </tbody>\n",
       "</table>\n",
       "<p>90 rows × 3 columns</p>\n",
       "</div>"
      ],
      "text/plain": [
       "    Image Confidence  Clinical Predictions  Test Labels\n",
       "0       5.960464e-08                   0.0          0.0\n",
       "1       3.576279e-07                   0.0          0.0\n",
       "2       5.960464e-08                   0.0          0.0\n",
       "3       2.980232e-08                   0.0          0.0\n",
       "4       8.662674e-02                   0.0          0.0\n",
       "..               ...                   ...          ...\n",
       "85      9.141337e-01                   1.0          1.0\n",
       "86      9.285676e-01                   1.0          1.0\n",
       "87      8.747004e-01                   1.0          1.0\n",
       "88      8.849819e-01                   1.0          1.0\n",
       "89      1.000000e+00                   0.0          1.0\n",
       "\n",
       "[90 rows x 3 columns]"
      ]
     },
     "execution_count": 60,
     "metadata": {},
     "output_type": "execute_result"
    }
   ],
   "source": [
    "DF"
   ]
  },
  {
   "cell_type": "markdown",
   "id": "cfec3a50",
   "metadata": {},
   "source": [
    "# Training Logistic Regression on Classification Task from both models' confidence"
   ]
  },
  {
   "cell_type": "code",
   "execution_count": 61,
   "id": "0771fc43-c2ed-48e5-879a-0e67c04667b8",
   "metadata": {
    "tags": []
   },
   "outputs": [],
   "source": [
    "X_FINAL,X_FINAL_HOLDOUT,Y_FINAL,Y_FINAL_HOLDOUT = train_test_split(DF.drop('Test Labels',axis=1),Y_test_image_labels,random_state=0,test_size=0.2)"
   ]
  },
  {
   "cell_type": "code",
   "execution_count": 62,
   "id": "8a77763d-644c-43bd-9be1-db74c90145a5",
   "metadata": {
    "tags": []
   },
   "outputs": [],
   "source": [
    "model = LogisticRegression()\n",
    "model.fit(X_FINAL,Y_FINAL)\n",
    "Y_HOLDOUT_PREDS = model.predict(X_FINAL_HOLDOUT)"
   ]
  },
  {
   "cell_type": "code",
   "execution_count": 63,
   "id": "b5ee31b1-3206-4649-9422-b5da087dd043",
   "metadata": {},
   "outputs": [
    {
     "data": {
      "image/png": "[encoded data removed]",
      "text/plain": [
       "<Figure size 640x480 with 2 Axes>"
      ]
     },
     "metadata": {},
     "output_type": "display_data"
    }
   ],
   "source": [
    "disp = ConfusionMatrixDisplay(confusion_matrix(Y_HOLDOUT_PREDS,Y_FINAL_HOLDOUT))\n",
    "disp.plot(cmap=plt.cm.plasma)\n",
    "plt.show()"
   ]
  },
  {
   "cell_type": "code",
   "execution_count": 68,
   "id": "5f816de4-da6f-4e8c-ac14-1c914c2e9282",
   "metadata": {
    "tags": []
   },
   "outputs": [
    {
     "name": "stdout",
     "output_type": "stream",
     "text": [
      "precision: 1.0\n",
      "recall: 1.0\n",
      "acc: 1.0\n"
     ]
    }
   ],
   "source": [
    "\n",
    "print(f\"precision: {precision_score(Y_HOLDOUT_PREDS,Y_FINAL_HOLDOUT)}\\nrecall: {recall_score(Y_HOLDOUT_PREDS,Y_FINAL_HOLDOUT)}\\nacc: {accuracy_score(Y_HOLDOUT_PREDS,Y_FINAL_HOLDOUT)}\")"
   ]
  }
 ],
 "metadata": {
  "kernelspec": {
   "display_name": "mlEnv",
   "language": "python",
   "name": "python3"
  },
  "language_info": {
   "codemirror_mode": {
    "name": "ipython",
    "version": 3
   },
   "file_extension": ".py",
   "mimetype": "text/x-python",
   "name": "python",
   "nbconvert_exporter": "python",
   "pygments_lexer": "ipython3",
   "version": "3.9.17"
  }
 },
 "nbformat": 4,
 "nbformat_minor": 5
}
