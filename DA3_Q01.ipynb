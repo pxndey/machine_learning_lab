{
 "cells": [
  {
   "cell_type": "code",
   "execution_count": 1,
   "id": "bfb2a5ec",
   "metadata": {},
   "outputs": [],
   "source": [
    "import numpy as np\n",
    "import pandas as pd\n",
    "import matplotlib.pyplot as plt\n",
    "import seaborn as sns"
   ]
  },
  {
   "cell_type": "code",
   "execution_count": 9,
   "id": "c5ca47e8",
   "metadata": {},
   "outputs": [
    {
     "name": "stderr",
     "output_type": "stream",
     "text": [
      "C:\\Users\\batch1\\AppData\\Local\\Temp\\ipykernel_16936\\3501729670.py:1: DtypeWarning: Columns (2,3,4,5,6) have mixed types. Specify dtype option on import or set low_memory=False.\n",
      "  df = pd.read_csv('corona.csv')\n"
     ]
    }
   ],
   "source": [
    "df = pd.read_csv('corona.csv')"
   ]
  },
  {
   "cell_type": "code",
   "execution_count": 10,
   "id": "990fd789",
   "metadata": {},
   "outputs": [
    {
     "data": {
      "text/html": [
       "<div>\n",
       "<style scoped>\n",
       "    .dataframe tbody tr th:only-of-type {\n",
       "        vertical-align: middle;\n",
       "    }\n",
       "\n",
       "    .dataframe tbody tr th {\n",
       "        vertical-align: top;\n",
       "    }\n",
       "\n",
       "    .dataframe thead th {\n",
       "        text-align: right;\n",
       "    }\n",
       "</style>\n",
       "<table border=\"1\" class=\"dataframe\">\n",
       "  <thead>\n",
       "    <tr style=\"text-align: right;\">\n",
       "      <th></th>\n",
       "      <th>Ind_ID</th>\n",
       "      <th>Test_date</th>\n",
       "      <th>Cough_symptoms</th>\n",
       "      <th>Fever</th>\n",
       "      <th>Sore_throat</th>\n",
       "      <th>Shortness_of_breath</th>\n",
       "      <th>Headache</th>\n",
       "      <th>Corona</th>\n",
       "      <th>Age_60_above</th>\n",
       "      <th>Sex</th>\n",
       "      <th>Known_contact</th>\n",
       "    </tr>\n",
       "  </thead>\n",
       "  <tbody>\n",
       "    <tr>\n",
       "      <th>0</th>\n",
       "      <td>1</td>\n",
       "      <td>11-03-2020</td>\n",
       "      <td>TRUE</td>\n",
       "      <td>FALSE</td>\n",
       "      <td>TRUE</td>\n",
       "      <td>FALSE</td>\n",
       "      <td>FALSE</td>\n",
       "      <td>negative</td>\n",
       "      <td>None</td>\n",
       "      <td>None</td>\n",
       "      <td>Abroad</td>\n",
       "    </tr>\n",
       "    <tr>\n",
       "      <th>1</th>\n",
       "      <td>2</td>\n",
       "      <td>11-03-2020</td>\n",
       "      <td>FALSE</td>\n",
       "      <td>TRUE</td>\n",
       "      <td>FALSE</td>\n",
       "      <td>FALSE</td>\n",
       "      <td>FALSE</td>\n",
       "      <td>positive</td>\n",
       "      <td>None</td>\n",
       "      <td>None</td>\n",
       "      <td>Abroad</td>\n",
       "    </tr>\n",
       "    <tr>\n",
       "      <th>2</th>\n",
       "      <td>3</td>\n",
       "      <td>11-03-2020</td>\n",
       "      <td>FALSE</td>\n",
       "      <td>TRUE</td>\n",
       "      <td>FALSE</td>\n",
       "      <td>FALSE</td>\n",
       "      <td>FALSE</td>\n",
       "      <td>positive</td>\n",
       "      <td>None</td>\n",
       "      <td>None</td>\n",
       "      <td>Abroad</td>\n",
       "    </tr>\n",
       "    <tr>\n",
       "      <th>3</th>\n",
       "      <td>4</td>\n",
       "      <td>11-03-2020</td>\n",
       "      <td>TRUE</td>\n",
       "      <td>FALSE</td>\n",
       "      <td>FALSE</td>\n",
       "      <td>FALSE</td>\n",
       "      <td>FALSE</td>\n",
       "      <td>negative</td>\n",
       "      <td>None</td>\n",
       "      <td>None</td>\n",
       "      <td>Abroad</td>\n",
       "    </tr>\n",
       "    <tr>\n",
       "      <th>4</th>\n",
       "      <td>5</td>\n",
       "      <td>11-03-2020</td>\n",
       "      <td>TRUE</td>\n",
       "      <td>FALSE</td>\n",
       "      <td>FALSE</td>\n",
       "      <td>FALSE</td>\n",
       "      <td>FALSE</td>\n",
       "      <td>negative</td>\n",
       "      <td>None</td>\n",
       "      <td>None</td>\n",
       "      <td>Contact with confirmed</td>\n",
       "    </tr>\n",
       "  </tbody>\n",
       "</table>\n",
       "</div>"
      ],
      "text/plain": [
       "   Ind_ID   Test_date Cough_symptoms  Fever Sore_throat Shortness_of_breath  \\\n",
       "0       1  11-03-2020           TRUE  FALSE        TRUE               FALSE   \n",
       "1       2  11-03-2020          FALSE   TRUE       FALSE               FALSE   \n",
       "2       3  11-03-2020          FALSE   TRUE       FALSE               FALSE   \n",
       "3       4  11-03-2020           TRUE  FALSE       FALSE               FALSE   \n",
       "4       5  11-03-2020           TRUE  FALSE       FALSE               FALSE   \n",
       "\n",
       "  Headache    Corona Age_60_above   Sex           Known_contact  \n",
       "0    FALSE  negative         None  None                  Abroad  \n",
       "1    FALSE  positive         None  None                  Abroad  \n",
       "2    FALSE  positive         None  None                  Abroad  \n",
       "3    FALSE  negative         None  None                  Abroad  \n",
       "4    FALSE  negative         None  None  Contact with confirmed  "
      ]
     },
     "execution_count": 10,
     "metadata": {},
     "output_type": "execute_result"
    }
   ],
   "source": [
    "df.head()"
   ]
  },
  {
   "cell_type": "code",
   "execution_count": 11,
   "id": "c718c15b",
   "metadata": {},
   "outputs": [
    {
     "name": "stdout",
     "output_type": "stream",
     "text": [
      "<class 'pandas.core.frame.DataFrame'>\n",
      "RangeIndex: 278848 entries, 0 to 278847\n",
      "Data columns (total 11 columns):\n",
      " #   Column               Non-Null Count   Dtype \n",
      "---  ------               --------------   ----- \n",
      " 0   Ind_ID               278848 non-null  int64 \n",
      " 1   Test_date            278848 non-null  object\n",
      " 2   Cough_symptoms       278848 non-null  object\n",
      " 3   Fever                278848 non-null  object\n",
      " 4   Sore_throat          278848 non-null  object\n",
      " 5   Shortness_of_breath  278848 non-null  object\n",
      " 6   Headache             278848 non-null  object\n",
      " 7   Corona               278848 non-null  object\n",
      " 8   Age_60_above         278848 non-null  object\n",
      " 9   Sex                  278848 non-null  object\n",
      " 10  Known_contact        278848 non-null  object\n",
      "dtypes: int64(1), object(10)\n",
      "memory usage: 23.4+ MB\n"
     ]
    }
   ],
   "source": [
    "df.info()"
   ]
  },
  {
   "cell_type": "code",
   "execution_count": 27,
   "id": "ce98fa8f",
   "metadata": {},
   "outputs": [
    {
     "data": {
      "text/plain": [
       "252"
      ]
     },
     "execution_count": 27,
     "metadata": {},
     "output_type": "execute_result"
    }
   ],
   "source": [
    "df['Cough_symptoms'].unique()\n",
    "df['Cough_symptoms'] = df['Cough_symptoms'].replace({'TRUE':True,'FALSE':False,'None':np.nan})\n",
    "df['Cough_symptoms'].isnull().sum()"
   ]
  },
  {
   "cell_type": "code",
   "execution_count": 28,
   "id": "3dcf6de2",
   "metadata": {},
   "outputs": [],
   "source": [
    "df['Fever'].unique()\n",
    "df['Fever'] = df['Fever'].replace({'TRUE':True,'FALSE':False,'None':np.nan})"
   ]
  },
  {
   "cell_type": "code",
   "execution_count": 29,
   "id": "7349c9fb",
   "metadata": {},
   "outputs": [],
   "source": [
    "df['Sore_throat'].unique()\n",
    "df['Sore_throat'] = df['Sore_throat'].replace({'TRUE':True,'FALSE':False,'None':np.nan})"
   ]
  },
  {
   "cell_type": "code",
   "execution_count": 30,
   "id": "09661a8e",
   "metadata": {},
   "outputs": [],
   "source": [
    "df['Shortness_of_breath'].unique()\n",
    "df['Shortness_of_breath'] = df['Shortness_of_breath'].replace({'TRUE':True,'FALSE':False,'None':np.nan})"
   ]
  },
  {
   "cell_type": "code",
   "execution_count": 31,
   "id": "4ab233be",
   "metadata": {},
   "outputs": [],
   "source": [
    "df['Headache'].unique()\n",
    "df['Headache'] = df['Headache'].replace({'TRUE':True,'FALSE':False,'None':np.nan})"
   ]
  },
  {
   "cell_type": "code",
   "execution_count": 32,
   "id": "050d143e",
   "metadata": {},
   "outputs": [],
   "source": [
    "df['Corona'].unique()\n",
    "df['Headache'] = df['Headache'].replace({'negative':0,'positive':1,'other':np.nan})"
   ]
  },
  {
   "cell_type": "code",
   "execution_count": 33,
   "id": "72bc3bf3",
   "metadata": {},
   "outputs": [],
   "source": [
    "df['Age_60_above'].unique()\n",
    "df['Age_60_above'] = df['Age_60_above'].replace({'Yes':True,'No':False,'None':np.nan})"
   ]
  },
  {
   "cell_type": "code",
   "execution_count": 34,
   "id": "ffc7a683",
   "metadata": {},
   "outputs": [],
   "source": [
    "df['Sex'].unique()\n",
    "df['Sex'] = df['Sex'].replace({'None':np.nan})"
   ]
  },
  {
   "cell_type": "code",
   "execution_count": 35,
   "id": "10bdf10d",
   "metadata": {},
   "outputs": [],
   "source": [
    "df['Known_contact'].unique()\n",
    "df['Known_contact'] = df['Known_contact'].replace({'Other':np.nan})"
   ]
  },
  {
   "cell_type": "code",
   "execution_count": 36,
   "id": "beaec8f3",
   "metadata": {},
   "outputs": [
    {
     "name": "stdout",
     "output_type": "stream",
     "text": [
      "<class 'pandas.core.frame.DataFrame'>\n",
      "RangeIndex: 278848 entries, 0 to 278847\n",
      "Data columns (total 11 columns):\n",
      " #   Column               Non-Null Count   Dtype \n",
      "---  ------               --------------   ----- \n",
      " 0   Ind_ID               278848 non-null  int64 \n",
      " 1   Test_date            278848 non-null  object\n",
      " 2   Cough_symptoms       278596 non-null  object\n",
      " 3   Fever                278596 non-null  object\n",
      " 4   Sore_throat          278847 non-null  object\n",
      " 5   Shortness_of_breath  278847 non-null  object\n",
      " 6   Headache             278847 non-null  object\n",
      " 7   Corona               278848 non-null  object\n",
      " 8   Age_60_above         151528 non-null  object\n",
      " 9   Sex                  259285 non-null  object\n",
      " 10  Known_contact        36107 non-null   object\n",
      "dtypes: int64(1), object(10)\n",
      "memory usage: 23.4+ MB\n"
     ]
    }
   ],
   "source": [
    "df.info()"
   ]
  },
  {
   "cell_type": "code",
   "execution_count": 37,
   "id": "25fd0870",
   "metadata": {},
   "outputs": [
    {
     "data": {
      "text/plain": [
       "Ind_ID                      0\n",
       "Test_date                   0\n",
       "Cough_symptoms            252\n",
       "Fever                     252\n",
       "Sore_throat                 1\n",
       "Shortness_of_breath         1\n",
       "Headache                    1\n",
       "Corona                      0\n",
       "Age_60_above           127320\n",
       "Sex                     19563\n",
       "Known_contact          242741\n",
       "dtype: int64"
      ]
     },
     "execution_count": 37,
     "metadata": {},
     "output_type": "execute_result"
    }
   ],
   "source": [
    "df.isnull().sum()"
   ]
  },
  {
   "cell_type": "markdown",
   "id": "c9bba256",
   "metadata": {},
   "source": [
    "We drop the Contact and Age columns becuase the number of missing values is more than 10%"
   ]
  },
  {
   "cell_type": "code",
   "execution_count": 40,
   "id": "343f0193",
   "metadata": {},
   "outputs": [],
   "source": [
    "df = df.drop(['Known_contact','Age_60_above','Sex'],axis=1)"
   ]
  },
  {
   "cell_type": "code",
   "execution_count": 42,
   "id": "41993948",
   "metadata": {},
   "outputs": [
    {
     "data": {
      "text/plain": [
       "Ind_ID                   0\n",
       "Test_date                0\n",
       "Cough_symptoms         252\n",
       "Fever                  252\n",
       "Sore_throat              1\n",
       "Shortness_of_breath      1\n",
       "Headache                 1\n",
       "Corona                   0\n",
       "dtype: int64"
      ]
     },
     "execution_count": 42,
     "metadata": {},
     "output_type": "execute_result"
    }
   ],
   "source": [
    "df.isnull().sum()"
   ]
  },
  {
   "cell_type": "code",
   "execution_count": 48,
   "id": "cc528c17",
   "metadata": {},
   "outputs": [],
   "source": [
    "df = df.drop(df[df['Cough_symptoms'].isnull()].index,axis=0)"
   ]
  },
  {
   "cell_type": "code",
   "execution_count": 49,
   "id": "6615f25a",
   "metadata": {},
   "outputs": [
    {
     "data": {
      "text/plain": [
       "Ind_ID                 0\n",
       "Test_date              0\n",
       "Cough_symptoms         0\n",
       "Fever                  2\n",
       "Sore_throat            0\n",
       "Shortness_of_breath    0\n",
       "Headache               0\n",
       "Corona                 0\n",
       "dtype: int64"
      ]
     },
     "execution_count": 49,
     "metadata": {},
     "output_type": "execute_result"
    }
   ],
   "source": [
    "df.isnull().sum()"
   ]
  },
  {
   "cell_type": "code",
   "execution_count": 50,
   "id": "2629b8fd",
   "metadata": {},
   "outputs": [],
   "source": [
    "df = df.drop(df[df['Fever'].isnull()].index,axis=0)"
   ]
  },
  {
   "cell_type": "code",
   "execution_count": 51,
   "id": "7acb0a10",
   "metadata": {},
   "outputs": [
    {
     "data": {
      "text/plain": [
       "Ind_ID                 0\n",
       "Test_date              0\n",
       "Cough_symptoms         0\n",
       "Fever                  0\n",
       "Sore_throat            0\n",
       "Shortness_of_breath    0\n",
       "Headache               0\n",
       "Corona                 0\n",
       "dtype: int64"
      ]
     },
     "execution_count": 51,
     "metadata": {},
     "output_type": "execute_result"
    }
   ],
   "source": [
    "df.isnull().sum()"
   ]
  },
  {
   "cell_type": "code",
   "execution_count": 52,
   "id": "6b4d4b36",
   "metadata": {},
   "outputs": [
    {
     "name": "stdout",
     "output_type": "stream",
     "text": [
      "<class 'pandas.core.frame.DataFrame'>\n",
      "Int64Index: 278594 entries, 0 to 278847\n",
      "Data columns (total 8 columns):\n",
      " #   Column               Non-Null Count   Dtype \n",
      "---  ------               --------------   ----- \n",
      " 0   Ind_ID               278594 non-null  int64 \n",
      " 1   Test_date            278594 non-null  object\n",
      " 2   Cough_symptoms       278594 non-null  object\n",
      " 3   Fever                278594 non-null  object\n",
      " 4   Sore_throat          278594 non-null  object\n",
      " 5   Shortness_of_breath  278594 non-null  object\n",
      " 6   Headache             278594 non-null  object\n",
      " 7   Corona               278594 non-null  object\n",
      "dtypes: int64(1), object(7)\n",
      "memory usage: 19.1+ MB\n"
     ]
    }
   ],
   "source": [
    "df.info()"
   ]
  },
  {
   "cell_type": "code",
   "execution_count": 53,
   "id": "b65e6bfc",
   "metadata": {},
   "outputs": [],
   "source": [
    "df = df.drop('Ind_ID',axis=1)"
   ]
  },
  {
   "cell_type": "code",
   "execution_count": 55,
   "id": "3965dfaa",
   "metadata": {},
   "outputs": [],
   "source": [
    "df = df.drop('Test_date',axis=1)"
   ]
  },
  {
   "cell_type": "code",
   "execution_count": 56,
   "id": "e71b0e48",
   "metadata": {},
   "outputs": [
    {
     "name": "stdout",
     "output_type": "stream",
     "text": [
      "<class 'pandas.core.frame.DataFrame'>\n",
      "Int64Index: 278594 entries, 0 to 278847\n",
      "Data columns (total 6 columns):\n",
      " #   Column               Non-Null Count   Dtype \n",
      "---  ------               --------------   ----- \n",
      " 0   Cough_symptoms       278594 non-null  object\n",
      " 1   Fever                278594 non-null  object\n",
      " 2   Sore_throat          278594 non-null  object\n",
      " 3   Shortness_of_breath  278594 non-null  object\n",
      " 4   Headache             278594 non-null  object\n",
      " 5   Corona               278594 non-null  object\n",
      "dtypes: object(6)\n",
      "memory usage: 14.9+ MB\n"
     ]
    }
   ],
   "source": [
    "df.info()"
   ]
  },
  {
   "cell_type": "code",
   "execution_count": 57,
   "id": "ca14676b",
   "metadata": {},
   "outputs": [],
   "source": [
    "from sklearn.preprocessing import LabelEncoder"
   ]
  },
  {
   "cell_type": "code",
   "execution_count": 61,
   "id": "a8879f06",
   "metadata": {},
   "outputs": [],
   "source": [
    "le = LabelEncoder()\n",
    "df['Cough_symptoms'] = le.fit_transform(df['Cough_symptoms'])\n",
    "df['Fever'] = le.fit_transform(df['Fever'])\n",
    "df['Sore_throat'] = le.fit_transform(df['Sore_throat'])\n",
    "df['Shortness_of_breath'] = le.fit_transform(df['Shortness_of_breath'])\n",
    "df['Headache'] = le.fit_transform(df['Headache'])\n",
    "df['Corona'] = le.fit_transform(df['Corona'])"
   ]
  },
  {
   "cell_type": "code",
   "execution_count": 62,
   "id": "dd953d8b",
   "metadata": {},
   "outputs": [
    {
     "name": "stdout",
     "output_type": "stream",
     "text": [
      "<class 'pandas.core.frame.DataFrame'>\n",
      "Int64Index: 278594 entries, 0 to 278847\n",
      "Data columns (total 6 columns):\n",
      " #   Column               Non-Null Count   Dtype\n",
      "---  ------               --------------   -----\n",
      " 0   Cough_symptoms       278594 non-null  int64\n",
      " 1   Fever                278594 non-null  int64\n",
      " 2   Sore_throat          278594 non-null  int64\n",
      " 3   Shortness_of_breath  278594 non-null  int64\n",
      " 4   Headache             278594 non-null  int32\n",
      " 5   Corona               278594 non-null  int32\n",
      "dtypes: int32(2), int64(4)\n",
      "memory usage: 12.8 MB\n"
     ]
    }
   ],
   "source": [
    "df.info()"
   ]
  },
  {
   "cell_type": "code",
   "execution_count": null,
   "id": "8068b106",
   "metadata": {},
   "outputs": [],
   "source": [
    "X = df.drop('Corona',axis=1)\n",
    "y = df['Corona']"
   ]
  }
 ],
 "metadata": {
  "kernelspec": {
   "display_name": "Python 3 (ipykernel)",
   "language": "python",
   "name": "python3"
  },
  "language_info": {
   "codemirror_mode": {
    "name": "ipython",
    "version": 3
   },
   "file_extension": ".py",
   "mimetype": "text/x-python",
   "name": "python",
   "nbconvert_exporter": "python",
   "pygments_lexer": "ipython3",
   "version": "3.9.13"
  }
 },
 "nbformat": 4,
 "nbformat_minor": 5
}
