{
 "cells": [
  {
   "cell_type": "code",
   "execution_count": 1,
   "id": "d5c7876f",
   "metadata": {},
   "outputs": [],
   "source": [
    "import numpy as np\n",
    "import pandas as pd\n",
    "import matplotlib.pyplot as plt\n",
    "import seaborn as sns"
   ]
  },
  {
   "cell_type": "code",
   "execution_count": 2,
   "id": "1d55c133",
   "metadata": {},
   "outputs": [],
   "source": [
    "df = pd.read_csv(\"heart-disease.csv\")"
   ]
  },
  {
   "cell_type": "code",
   "execution_count": 3,
   "id": "ef272500",
   "metadata": {},
   "outputs": [
    {
     "data": {
      "text/html": [
       "<div>\n",
       "<style scoped>\n",
       "    .dataframe tbody tr th:only-of-type {\n",
       "        vertical-align: middle;\n",
       "    }\n",
       "\n",
       "    .dataframe tbody tr th {\n",
       "        vertical-align: top;\n",
       "    }\n",
       "\n",
       "    .dataframe thead th {\n",
       "        text-align: right;\n",
       "    }\n",
       "</style>\n",
       "<table border=\"1\" class=\"dataframe\">\n",
       "  <thead>\n",
       "    <tr style=\"text-align: right;\">\n",
       "      <th></th>\n",
       "      <th>age</th>\n",
       "      <th>sex</th>\n",
       "      <th>cp</th>\n",
       "      <th>trestbps</th>\n",
       "      <th>chol</th>\n",
       "      <th>fbs</th>\n",
       "      <th>restecg</th>\n",
       "      <th>thalach</th>\n",
       "      <th>exang</th>\n",
       "      <th>oldpeak</th>\n",
       "      <th>slope</th>\n",
       "      <th>ca</th>\n",
       "      <th>thal</th>\n",
       "      <th>target</th>\n",
       "    </tr>\n",
       "  </thead>\n",
       "  <tbody>\n",
       "    <tr>\n",
       "      <th>0</th>\n",
       "      <td>63</td>\n",
       "      <td>1</td>\n",
       "      <td>3</td>\n",
       "      <td>145</td>\n",
       "      <td>233</td>\n",
       "      <td>1</td>\n",
       "      <td>0</td>\n",
       "      <td>150</td>\n",
       "      <td>0</td>\n",
       "      <td>2.3</td>\n",
       "      <td>0</td>\n",
       "      <td>0</td>\n",
       "      <td>1</td>\n",
       "      <td>1</td>\n",
       "    </tr>\n",
       "    <tr>\n",
       "      <th>1</th>\n",
       "      <td>37</td>\n",
       "      <td>1</td>\n",
       "      <td>2</td>\n",
       "      <td>130</td>\n",
       "      <td>250</td>\n",
       "      <td>0</td>\n",
       "      <td>1</td>\n",
       "      <td>187</td>\n",
       "      <td>0</td>\n",
       "      <td>3.5</td>\n",
       "      <td>0</td>\n",
       "      <td>0</td>\n",
       "      <td>2</td>\n",
       "      <td>1</td>\n",
       "    </tr>\n",
       "    <tr>\n",
       "      <th>2</th>\n",
       "      <td>41</td>\n",
       "      <td>0</td>\n",
       "      <td>1</td>\n",
       "      <td>130</td>\n",
       "      <td>204</td>\n",
       "      <td>0</td>\n",
       "      <td>0</td>\n",
       "      <td>172</td>\n",
       "      <td>0</td>\n",
       "      <td>1.4</td>\n",
       "      <td>2</td>\n",
       "      <td>0</td>\n",
       "      <td>2</td>\n",
       "      <td>1</td>\n",
       "    </tr>\n",
       "    <tr>\n",
       "      <th>3</th>\n",
       "      <td>56</td>\n",
       "      <td>1</td>\n",
       "      <td>1</td>\n",
       "      <td>120</td>\n",
       "      <td>236</td>\n",
       "      <td>0</td>\n",
       "      <td>1</td>\n",
       "      <td>178</td>\n",
       "      <td>0</td>\n",
       "      <td>0.8</td>\n",
       "      <td>2</td>\n",
       "      <td>0</td>\n",
       "      <td>2</td>\n",
       "      <td>1</td>\n",
       "    </tr>\n",
       "    <tr>\n",
       "      <th>4</th>\n",
       "      <td>57</td>\n",
       "      <td>0</td>\n",
       "      <td>0</td>\n",
       "      <td>120</td>\n",
       "      <td>354</td>\n",
       "      <td>0</td>\n",
       "      <td>1</td>\n",
       "      <td>163</td>\n",
       "      <td>1</td>\n",
       "      <td>0.6</td>\n",
       "      <td>2</td>\n",
       "      <td>0</td>\n",
       "      <td>2</td>\n",
       "      <td>1</td>\n",
       "    </tr>\n",
       "  </tbody>\n",
       "</table>\n",
       "</div>"
      ],
      "text/plain": [
       "   age  sex  cp  trestbps  chol  fbs  restecg  thalach  exang  oldpeak  slope  \\\n",
       "0   63    1   3       145   233    1        0      150      0      2.3      0   \n",
       "1   37    1   2       130   250    0        1      187      0      3.5      0   \n",
       "2   41    0   1       130   204    0        0      172      0      1.4      2   \n",
       "3   56    1   1       120   236    0        1      178      0      0.8      2   \n",
       "4   57    0   0       120   354    0        1      163      1      0.6      2   \n",
       "\n",
       "   ca  thal  target  \n",
       "0   0     1       1  \n",
       "1   0     2       1  \n",
       "2   0     2       1  \n",
       "3   0     2       1  \n",
       "4   0     2       1  "
      ]
     },
     "execution_count": 3,
     "metadata": {},
     "output_type": "execute_result"
    }
   ],
   "source": [
    "df.head()"
   ]
  },
  {
   "cell_type": "code",
   "execution_count": 4,
   "id": "315979ca",
   "metadata": {},
   "outputs": [
    {
     "name": "stdout",
     "output_type": "stream",
     "text": [
      "<class 'pandas.core.frame.DataFrame'>\n",
      "RangeIndex: 303 entries, 0 to 302\n",
      "Data columns (total 14 columns):\n",
      " #   Column    Non-Null Count  Dtype  \n",
      "---  ------    --------------  -----  \n",
      " 0   age       303 non-null    int64  \n",
      " 1   sex       303 non-null    int64  \n",
      " 2   cp        303 non-null    int64  \n",
      " 3   trestbps  303 non-null    int64  \n",
      " 4   chol      303 non-null    int64  \n",
      " 5   fbs       303 non-null    int64  \n",
      " 6   restecg   303 non-null    int64  \n",
      " 7   thalach   303 non-null    int64  \n",
      " 8   exang     303 non-null    int64  \n",
      " 9   oldpeak   303 non-null    float64\n",
      " 10  slope     303 non-null    int64  \n",
      " 11  ca        303 non-null    int64  \n",
      " 12  thal      303 non-null    int64  \n",
      " 13  target    303 non-null    int64  \n",
      "dtypes: float64(1), int64(13)\n",
      "memory usage: 33.3 KB\n"
     ]
    }
   ],
   "source": [
    "df.info()"
   ]
  },
  {
   "cell_type": "code",
   "execution_count": 5,
   "id": "c560ff92",
   "metadata": {},
   "outputs": [],
   "source": [
    "x = df.drop('target',axis=1)\n",
    "y = df['target']"
   ]
  },
  {
   "cell_type": "code",
   "execution_count": 6,
   "id": "04837985",
   "metadata": {},
   "outputs": [],
   "source": [
    "from sklearn.model_selection import train_test_split\n",
    "from sklearn.preprocessing import StandardScaler,MinMaxScaler\n",
    "from sklearn.linear_model import LinearRegression,LogisticRegression\n",
    "from sklearn.tree import DecisionTreeClassifier\n",
    "from sklearn.naive_bayes import MultinomialNB\n",
    "from sklearn.neighbors import KNeighborsClassifier\n",
    "from sklearn.metrics import accuracy_score"
   ]
  },
  {
   "cell_type": "code",
   "execution_count": 7,
   "id": "9451da00",
   "metadata": {},
   "outputs": [],
   "source": [
    "xtrain,xtest,ytrain,ytest = train_test_split(x,y,random_state=0,test_size=0.2)"
   ]
  },
  {
   "cell_type": "code",
   "execution_count": 8,
   "id": "714e1065",
   "metadata": {},
   "outputs": [
    {
     "name": "stdout",
     "output_type": "stream",
     "text": [
      "(242, 13) (242,)\n",
      "(61, 13) (61,)\n"
     ]
    }
   ],
   "source": [
    "print(f\"{xtrain.shape} {ytrain.shape}\")\n",
    "print(f\"{xtest.shape} {ytest.shape}\")"
   ]
  },
  {
   "cell_type": "code",
   "execution_count": 9,
   "id": "2e155c12",
   "metadata": {},
   "outputs": [],
   "source": [
    "sc = StandardScaler()\n",
    "scaled_xtrain = sc.fit_transform(xtrain)\n",
    "scaled_xtest = sc.transform(xtest)"
   ]
  },
  {
   "cell_type": "code",
   "execution_count": 10,
   "id": "1f8c6ed5",
   "metadata": {},
   "outputs": [],
   "source": [
    "LinRegModel = LinearRegression()\n",
    "LinRegModel.fit(scaled_xtrain,ytrain)\n",
    "linReg_predicts = LinRegModel.predict(scaled_xtest)"
   ]
  },
  {
   "cell_type": "code",
   "execution_count": 11,
   "id": "d8a2c32d",
   "metadata": {
    "scrolled": true
   },
   "outputs": [
    {
     "data": {
      "text/plain": [
       "array([ 0.06801472,  0.71681997,  0.73679794,  0.01302379,  0.23606595,\n",
       "        0.51943293,  0.1832927 ,  0.26862082, -0.18844421, -0.23819858,\n",
       "        0.65236404,  0.89925409,  0.10829792,  0.76215218,  0.99402895,\n",
       "        0.62248155,  0.17280607,  0.65143817, -0.14748662,  0.75662605,\n",
       "        0.72253637,  0.4515309 ,  0.25067708,  0.24118341,  0.80149218,\n",
       "        0.5818327 ,  0.3186585 ,  0.48354757,  1.06023388,  0.60702415,\n",
       "        0.62134778, -0.05702169,  1.00480281,  0.65907569,  0.86560243,\n",
       "        0.57494184,  0.07005343,  0.77550305,  0.18177813,  0.31589193,\n",
       "        0.66827766,  0.73731671,  0.42602317,  0.18737756,  0.51958253,\n",
       "        0.64602671,  0.75016333,  0.59514114,  0.13934865,  0.73662645,\n",
       "        0.78272629,  0.56785086,  1.00228097,  0.77204668,  1.25304618,\n",
       "        0.24734838,  0.93422182,  0.87746248,  0.69182111,  0.95483771,\n",
       "        0.71801876])"
      ]
     },
     "execution_count": 11,
     "metadata": {},
     "output_type": "execute_result"
    }
   ],
   "source": [
    "linReg_predicts"
   ]
  },
  {
   "cell_type": "markdown",
   "id": "4dcd850a",
   "metadata": {},
   "source": [
    "We have used a regression model for classification, hence the output values are not discrete.\n",
    "\n",
    "Since Predictions are continuous, we convert them into dicrete values for the accuracy score"
   ]
  },
  {
   "cell_type": "code",
   "execution_count": 12,
   "id": "67aaf535",
   "metadata": {
    "scrolled": true
   },
   "outputs": [
    {
     "data": {
      "text/plain": [
       "array([0, 1, 1, 0, 0, 1, 0, 0, 0, 0, 1, 1, 0, 1, 1, 1, 0, 1, 0, 1, 1, 0,\n",
       "       0, 0, 1, 1, 0, 0, 1, 1, 1, 0, 1, 1, 1, 1, 0, 1, 0, 0, 1, 1, 0, 0,\n",
       "       1, 1, 1, 1, 0, 1, 1, 1, 1, 1, 1, 0, 1, 1, 1, 1, 1])"
      ]
     },
     "execution_count": 12,
     "metadata": {},
     "output_type": "execute_result"
    }
   ],
   "source": [
    "bin_linreg = (linReg_predicts>=0.5).astype(int)\n",
    "bin_linreg"
   ]
  },
  {
   "cell_type": "markdown",
   "id": "eb2fedf1",
   "metadata": {},
   "source": [
    "Bayesian Models do not accept negative values, hence we will be using a MinMax Scaler instead of a Standard Scaler"
   ]
  },
  {
   "cell_type": "code",
   "execution_count": 13,
   "id": "41fffd12",
   "metadata": {},
   "outputs": [],
   "source": [
    "mmScaler = MinMaxScaler()\n",
    "mmScaled_Xtrain = mmScaler.fit_transform(xtrain)\n",
    "mmScaled_Xtest = mmScaler.transform(xtest)"
   ]
  },
  {
   "cell_type": "code",
   "execution_count": 14,
   "id": "6384bd0c",
   "metadata": {},
   "outputs": [],
   "source": [
    "bayesModel = MultinomialNB()\n",
    "bayesModel.fit(mmScaled_Xtrain,ytrain)\n",
    "bayesModel_predicts = bayesModel.predict(mmScaled_Xtest)"
   ]
  },
  {
   "cell_type": "code",
   "execution_count": 15,
   "id": "9bdc291c",
   "metadata": {},
   "outputs": [
    {
     "data": {
      "text/plain": [
       "array([0, 1, 1, 0, 1, 1, 0, 0, 0, 0, 1, 1, 0, 1, 1, 0, 0, 1, 0, 1, 1, 1,\n",
       "       1, 0, 1, 1, 0, 1, 1, 1, 1, 0, 1, 1, 1, 0, 0, 1, 0, 0, 1, 1, 1, 0,\n",
       "       0, 1, 1, 1, 0, 1, 1, 0, 1, 1, 1, 0, 1, 1, 1, 1, 1], dtype=int64)"
      ]
     },
     "execution_count": 15,
     "metadata": {},
     "output_type": "execute_result"
    }
   ],
   "source": [
    "bayesModel_predicts"
   ]
  },
  {
   "cell_type": "code",
   "execution_count": 16,
   "id": "e5e5d9ab",
   "metadata": {},
   "outputs": [],
   "source": [
    "dtModel = DecisionTreeClassifier()\n",
    "dtModel.fit(scaled_xtrain,ytrain)\n",
    "dtModel_predicts = dtModel.predict(scaled_xtest)"
   ]
  },
  {
   "cell_type": "code",
   "execution_count": 17,
   "id": "5080c672",
   "metadata": {},
   "outputs": [
    {
     "data": {
      "text/plain": [
       "array([0, 0, 0, 0, 0, 0, 0, 0, 0, 0, 0, 1, 0, 1, 1, 0, 0, 1, 0, 1, 1, 0,\n",
       "       0, 0, 1, 1, 0, 0, 1, 1, 1, 0, 1, 0, 1, 1, 0, 1, 0, 0, 1, 0, 1, 0,\n",
       "       0, 0, 1, 1, 0, 1, 1, 1, 1, 0, 1, 0, 1, 1, 1, 1, 1], dtype=int64)"
      ]
     },
     "execution_count": 17,
     "metadata": {},
     "output_type": "execute_result"
    }
   ],
   "source": [
    "dtModel_predicts"
   ]
  },
  {
   "cell_type": "code",
   "execution_count": 18,
   "id": "8128b69a",
   "metadata": {},
   "outputs": [],
   "source": [
    "knnModel = KNeighborsClassifier()\n",
    "knnModel.fit(scaled_xtrain,ytrain)\n",
    "knnModel_predicts = knnModel.predict(scaled_xtest)"
   ]
  },
  {
   "cell_type": "code",
   "execution_count": 19,
   "id": "0f0cb120",
   "metadata": {},
   "outputs": [
    {
     "data": {
      "text/plain": [
       "array([0, 0, 0, 0, 0, 1, 0, 0, 0, 0, 1, 1, 0, 1, 1, 1, 0, 1, 0, 1, 1, 1,\n",
       "       0, 0, 1, 1, 0, 0, 1, 1, 0, 0, 1, 1, 1, 0, 0, 1, 0, 1, 1, 1, 1, 0,\n",
       "       1, 0, 1, 1, 0, 1, 1, 0, 1, 1, 1, 0, 1, 1, 1, 1, 1], dtype=int64)"
      ]
     },
     "execution_count": 19,
     "metadata": {},
     "output_type": "execute_result"
    }
   ],
   "source": [
    "knnModel_predicts"
   ]
  },
  {
   "cell_type": "code",
   "execution_count": 20,
   "id": "66e0e778",
   "metadata": {},
   "outputs": [],
   "source": [
    "logModel = LogisticRegression()\n",
    "logModel.fit(scaled_xtrain,ytrain)\n",
    "logModel_predicts = logModel.predict(scaled_xtest)"
   ]
  },
  {
   "cell_type": "code",
   "execution_count": 21,
   "id": "c0928c59",
   "metadata": {},
   "outputs": [
    {
     "data": {
      "text/plain": [
       "array([0, 1, 1, 0, 0, 0, 0, 0, 0, 0, 1, 1, 0, 1, 1, 1, 0, 1, 0, 1, 1, 0,\n",
       "       0, 0, 1, 1, 0, 0, 1, 1, 1, 0, 1, 1, 1, 1, 0, 1, 0, 0, 1, 1, 0, 0,\n",
       "       1, 1, 1, 1, 0, 1, 1, 1, 1, 1, 1, 0, 1, 1, 1, 1, 1], dtype=int64)"
      ]
     },
     "execution_count": 21,
     "metadata": {},
     "output_type": "execute_result"
    }
   ],
   "source": [
    "logModel_predicts"
   ]
  },
  {
   "cell_type": "code",
   "execution_count": 22,
   "id": "925f55fc",
   "metadata": {},
   "outputs": [
    {
     "name": "stdout",
     "output_type": "stream",
     "text": [
      "Accuracy of Linear Regression is         :83.61%\n",
      "Accuracy of Naive Bayes Classifier is    :78.69%\n",
      "Accuracy of Decision Trees is            :75.41%\n",
      "Accuracy of K Nearest Neighbors (K=5) is :81.97%\n",
      "Accuracy of Logistic Regression is       :85.25%\n"
     ]
    }
   ],
   "source": [
    "print(f\"Accuracy of Linear Regression is         :{accuracy_score(bin_linreg,ytest)*100:.2f}%\")\n",
    "print(f\"Accuracy of Naive Bayes Classifier is    :{accuracy_score(bayesModel_predicts,ytest)*100:.2f}%\")\n",
    "print(f\"Accuracy of Decision Trees is            :{accuracy_score(dtModel_predicts,ytest)*100:.2f}%\")\n",
    "print(f\"Accuracy of K Nearest Neighbors (K=5) is :{accuracy_score(knnModel_predicts,ytest)*100:.2f}%\")\n",
    "print(f\"Accuracy of Logistic Regression is       :{accuracy_score(logModel_predicts,ytest)*100:.2f}%\")"
   ]
  },
  {
   "cell_type": "code",
   "execution_count": 23,
   "id": "b235c9fd",
   "metadata": {},
   "outputs": [],
   "source": [
    "xPlot = [accuracy_score(bin_linreg,ytest),\n",
    "                        accuracy_score(bayesModel_predicts,ytest),\n",
    "                        accuracy_score(dtModel_predicts,ytest),\n",
    "                        accuracy_score(knnModel_predicts,ytest),\n",
    "                        accuracy_score(logModel_predicts,ytest)]\n",
    "yPlot = ['Linear Regression','Naive Bayes','Decision Trees','K Nearest Neighbors','Logistic Regression']"
   ]
  },
  {
   "cell_type": "code",
   "execution_count": 27,
   "id": "21b38af5",
   "metadata": {},
   "outputs": [],
   "source": [
    "sns.set_palette('Pastel1')"
   ]
  },
  {
   "cell_type": "code",
   "execution_count": 28,
   "id": "9ada1cc9",
   "metadata": {},
   "outputs": [
    {
     "data": {
      "text/plain": [
       "Text(0.5, 1.0, 'Anushk Pandey 21BCE2517')"
      ]
     },
     "execution_count": 28,
     "metadata": {},
     "output_type": "execute_result"
    },
    {
     "data": {
      "image/png": "[encoded data removed]",
      "text/plain": [
       "<Figure size 640x480 with 1 Axes>"
      ]
     },
     "metadata": {},
     "output_type": "display_data"
    }
   ],
   "source": [
    "sns.barplot(y=xPlot,x=yPlot,)\n",
    "plt.ylim(0.70,0.87)\n",
    "plt.xticks(rotation=45)\n",
    "plt.title(\"Anushk Pandey 21BCE2517\")"
   ]
  },
  {
   "cell_type": "code",
   "execution_count": null,
   "id": "38370adc",
   "metadata": {},
   "outputs": [],
   "source": []
  }
 ],
 "metadata": {
  "kernelspec": {
   "display_name": "Python 3 (ipykernel)",
   "language": "python",
   "name": "python3"
  },
  "language_info": {
   "codemirror_mode": {
    "name": "ipython",
    "version": 3
   },
   "file_extension": ".py",
   "mimetype": "text/x-python",
   "name": "python",
   "nbconvert_exporter": "python",
   "pygments_lexer": "ipython3",
   "version": "3.9.17"
  }
 },
 "nbformat": 4,
 "nbformat_minor": 5
}
